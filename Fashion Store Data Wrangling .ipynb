{
 "cells": [
  {
   "cell_type": "markdown",
   "id": "c69e16cc",
   "metadata": {},
   "source": [
    "## Import Libraries "
   ]
  },
  {
   "cell_type": "code",
   "execution_count": 345,
   "id": "c695b09b",
   "metadata": {},
   "outputs": [],
   "source": [
    "import pandas as pd \n",
    "import numpy as np \n",
    "import matplotlib as plt \n",
    "import seaborn as sns\n",
    "import warnings\n",
    "from datasist.structdata import detect_outliers"
   ]
  },
  {
   "cell_type": "code",
   "execution_count": 346,
   "id": "195dfede",
   "metadata": {},
   "outputs": [],
   "source": [
    "warnings.filterwarnings('ignore')"
   ]
  },
  {
   "cell_type": "code",
   "execution_count": 347,
   "id": "09ae65be",
   "metadata": {},
   "outputs": [],
   "source": [
    "%matplotlib inline "
   ]
  },
  {
   "cell_type": "code",
   "execution_count": 348,
   "id": "7c5bb10b",
   "metadata": {},
   "outputs": [],
   "source": [
    "sns.set_theme(context = 'paper' , style = 'whitegrid' , palette = 'Set1' , font_scale = 1,\n",
    "             rc = {'figure.figsize' : (8 , 4)})"
   ]
  },
  {
   "cell_type": "markdown",
   "id": "929bb879",
   "metadata": {},
   "source": [
    "## Read 1st Dataset\n",
    "* Clean and Prepare for analysis \n",
    "* see strange values and check outliers point \n",
    "* deal with maissing value based on percentage "
   ]
  },
  {
   "cell_type": "code",
   "execution_count": 349,
   "id": "ca593654",
   "metadata": {
    "scrolled": true
   },
   "outputs": [
    {
     "data": {
      "text/html": [
       "<div>\n",
       "<style scoped>\n",
       "    .dataframe tbody tr th:only-of-type {\n",
       "        vertical-align: middle;\n",
       "    }\n",
       "\n",
       "    .dataframe tbody tr th {\n",
       "        vertical-align: top;\n",
       "    }\n",
       "\n",
       "    .dataframe thead th {\n",
       "        text-align: right;\n",
       "    }\n",
       "</style>\n",
       "<table border=\"1\" class=\"dataframe\">\n",
       "  <thead>\n",
       "    <tr style=\"text-align: right;\">\n",
       "      <th></th>\n",
       "      <th>id</th>\n",
       "      <th>gender</th>\n",
       "      <th>masterCategory</th>\n",
       "      <th>subCategory</th>\n",
       "      <th>articleType</th>\n",
       "      <th>baseColour</th>\n",
       "      <th>season</th>\n",
       "      <th>year</th>\n",
       "      <th>usage</th>\n",
       "      <th>productDisplayName</th>\n",
       "    </tr>\n",
       "  </thead>\n",
       "  <tbody>\n",
       "    <tr>\n",
       "      <th>0</th>\n",
       "      <td>15970</td>\n",
       "      <td>Men</td>\n",
       "      <td>Apparel</td>\n",
       "      <td>Topwear</td>\n",
       "      <td>Shirts</td>\n",
       "      <td>Navy Blue</td>\n",
       "      <td>Fall</td>\n",
       "      <td>2011.0</td>\n",
       "      <td>Casual</td>\n",
       "      <td>Turtle Check Men Navy Blue Shirt</td>\n",
       "    </tr>\n",
       "    <tr>\n",
       "      <th>1</th>\n",
       "      <td>39386</td>\n",
       "      <td>Men</td>\n",
       "      <td>Apparel</td>\n",
       "      <td>Bottomwear</td>\n",
       "      <td>Jeans</td>\n",
       "      <td>Blue</td>\n",
       "      <td>Summer</td>\n",
       "      <td>2012.0</td>\n",
       "      <td>Casual</td>\n",
       "      <td>Peter England Men Party Blue Jeans</td>\n",
       "    </tr>\n",
       "    <tr>\n",
       "      <th>2</th>\n",
       "      <td>59263</td>\n",
       "      <td>Women</td>\n",
       "      <td>Accessories</td>\n",
       "      <td>Watches</td>\n",
       "      <td>Watches</td>\n",
       "      <td>Silver</td>\n",
       "      <td>Winter</td>\n",
       "      <td>2016.0</td>\n",
       "      <td>Casual</td>\n",
       "      <td>Titan Women Silver Watch</td>\n",
       "    </tr>\n",
       "    <tr>\n",
       "      <th>3</th>\n",
       "      <td>21379</td>\n",
       "      <td>Men</td>\n",
       "      <td>Apparel</td>\n",
       "      <td>Bottomwear</td>\n",
       "      <td>Track Pants</td>\n",
       "      <td>Black</td>\n",
       "      <td>Fall</td>\n",
       "      <td>2011.0</td>\n",
       "      <td>Casual</td>\n",
       "      <td>Manchester United Men Solid Black Track Pants</td>\n",
       "    </tr>\n",
       "    <tr>\n",
       "      <th>4</th>\n",
       "      <td>53759</td>\n",
       "      <td>Men</td>\n",
       "      <td>Apparel</td>\n",
       "      <td>Topwear</td>\n",
       "      <td>Tshirts</td>\n",
       "      <td>Grey</td>\n",
       "      <td>Summer</td>\n",
       "      <td>2012.0</td>\n",
       "      <td>Casual</td>\n",
       "      <td>Puma Men Grey T-shirt</td>\n",
       "    </tr>\n",
       "  </tbody>\n",
       "</table>\n",
       "</div>"
      ],
      "text/plain": [
       "      id gender masterCategory subCategory  ...  season    year   usage                             productDisplayName\n",
       "0  15970    Men        Apparel     Topwear  ...    Fall  2011.0  Casual               Turtle Check Men Navy Blue Shirt\n",
       "1  39386    Men        Apparel  Bottomwear  ...  Summer  2012.0  Casual             Peter England Men Party Blue Jeans\n",
       "2  59263  Women    Accessories     Watches  ...  Winter  2016.0  Casual                       Titan Women Silver Watch\n",
       "3  21379    Men        Apparel  Bottomwear  ...    Fall  2011.0  Casual  Manchester United Men Solid Black Track Pants\n",
       "4  53759    Men        Apparel     Topwear  ...  Summer  2012.0  Casual                          Puma Men Grey T-shirt\n",
       "\n",
       "[5 rows x 10 columns]"
      ]
     },
     "execution_count": 349,
     "metadata": {},
     "output_type": "execute_result"
    }
   ],
   "source": [
    "df = pd.read_csv('Fashion.csv')\n",
    "df.head()"
   ]
  },
  {
   "cell_type": "markdown",
   "id": "ecf5c432",
   "metadata": {},
   "source": [
    "* check data info for # of records and feature and missing value \n",
    "* check if columns data type represent it's value "
   ]
  },
  {
   "cell_type": "code",
   "execution_count": 350,
   "id": "a23c8115",
   "metadata": {
    "scrolled": true
   },
   "outputs": [
    {
     "name": "stdout",
     "output_type": "stream",
     "text": [
      "<class 'pandas.core.frame.DataFrame'>\n",
      "RangeIndex: 44446 entries, 0 to 44445\n",
      "Data columns (total 10 columns):\n",
      " #   Column              Non-Null Count  Dtype  \n",
      "---  ------              --------------  -----  \n",
      " 0   id                  44446 non-null  int64  \n",
      " 1   gender              44446 non-null  object \n",
      " 2   masterCategory      44446 non-null  object \n",
      " 3   subCategory         44446 non-null  object \n",
      " 4   articleType         44446 non-null  object \n",
      " 5   baseColour          44431 non-null  object \n",
      " 6   season              44425 non-null  object \n",
      " 7   year                44445 non-null  float64\n",
      " 8   usage               44129 non-null  object \n",
      " 9   productDisplayName  44439 non-null  object \n",
      "dtypes: float64(1), int64(1), object(8)\n",
      "memory usage: 3.4+ MB\n"
     ]
    }
   ],
   "source": [
    "df.info()"
   ]
  },
  {
   "cell_type": "markdown",
   "id": "17d5af71",
   "metadata": {},
   "source": [
    "* see missing value percentage "
   ]
  },
  {
   "cell_type": "code",
   "execution_count": 351,
   "id": "fba5e8cf",
   "metadata": {
    "scrolled": true
   },
   "outputs": [
    {
     "data": {
      "text/plain": [
       "id                    0.000000\n",
       "gender                0.000000\n",
       "masterCategory        0.000000\n",
       "subCategory           0.000000\n",
       "articleType           0.000000\n",
       "baseColour            0.033749\n",
       "season                0.047248\n",
       "year                  0.002250\n",
       "usage                 0.713225\n",
       "productDisplayName    0.015749\n",
       "dtype: float64"
      ]
     },
     "execution_count": 351,
     "metadata": {},
     "output_type": "execute_result"
    }
   ],
   "source": [
    "df.isnull().mean()*100"
   ]
  },
  {
   "cell_type": "markdown",
   "id": "b05dfddf",
   "metadata": {},
   "source": [
    "* missing records are so small no problem to drop it "
   ]
  },
  {
   "cell_type": "code",
   "execution_count": 352,
   "id": "a4dd0cce",
   "metadata": {},
   "outputs": [],
   "source": [
    "df.dropna(inplace = True , axis = 0 )"
   ]
  },
  {
   "cell_type": "code",
   "execution_count": 353,
   "id": "c84a683f",
   "metadata": {},
   "outputs": [
    {
     "data": {
      "text/plain": [
       "id                    0.0\n",
       "gender                0.0\n",
       "masterCategory        0.0\n",
       "subCategory           0.0\n",
       "articleType           0.0\n",
       "baseColour            0.0\n",
       "season                0.0\n",
       "year                  0.0\n",
       "usage                 0.0\n",
       "productDisplayName    0.0\n",
       "dtype: float64"
      ]
     },
     "execution_count": 353,
     "metadata": {},
     "output_type": "execute_result"
    }
   ],
   "source": [
    "df.isnull().mean()*100"
   ]
  },
  {
   "cell_type": "markdown",
   "id": "5cc1319f",
   "metadata": {},
   "source": [
    "### Check if there is duplicated records "
   ]
  },
  {
   "cell_type": "code",
   "execution_count": 354,
   "id": "46f3609c",
   "metadata": {
    "scrolled": true
   },
   "outputs": [
    {
     "data": {
      "text/plain": [
       "0"
      ]
     },
     "execution_count": 354,
     "metadata": {},
     "output_type": "execute_result"
    }
   ],
   "source": [
    "df.duplicated().sum()"
   ]
  },
  {
   "cell_type": "markdown",
   "id": "35634a37",
   "metadata": {},
   "source": [
    "### Do some univariate analysis to see different categories for each feature \n",
    "* see if there is wrong values "
   ]
  },
  {
   "cell_type": "code",
   "execution_count": 355,
   "id": "355cd429",
   "metadata": {
    "scrolled": true
   },
   "outputs": [
    {
     "data": {
      "text/plain": [
       "array(['Men', 'Women', 'Boys', 'Girls', 'Unisex'], dtype=object)"
      ]
     },
     "execution_count": 355,
     "metadata": {},
     "output_type": "execute_result"
    }
   ],
   "source": [
    "df['gender'].unique()"
   ]
  },
  {
   "cell_type": "code",
   "execution_count": 356,
   "id": "b5659298",
   "metadata": {},
   "outputs": [
    {
     "data": {
      "text/plain": [
       "<AxesSubplot:xlabel='gender', ylabel='count'>"
      ]
     },
     "execution_count": 356,
     "metadata": {},
     "output_type": "execute_result"
    },
    {
     "data": {
      "image/png": "[encoded data removed]",
      "text/plain": [
       "<Figure size 576x288 with 1 Axes>"
      ]
     },
     "metadata": {},
     "output_type": "display_data"
    }
   ],
   "source": [
    "sns.countplot(df['gender'])"
   ]
  },
  {
   "cell_type": "code",
   "execution_count": 357,
   "id": "afa57837",
   "metadata": {},
   "outputs": [
    {
     "data": {
      "text/plain": [
       "array(['Apparel', 'Accessories', 'Footwear', 'Personal Care',\n",
       "       'Free Items', 'Sporting Goods', 'Home'], dtype=object)"
      ]
     },
     "execution_count": 357,
     "metadata": {},
     "output_type": "execute_result"
    }
   ],
   "source": [
    "df['masterCategory'].unique()"
   ]
  },
  {
   "cell_type": "code",
   "execution_count": 358,
   "id": "77235d4b",
   "metadata": {},
   "outputs": [
    {
     "data": {
      "text/plain": [
       "<AxesSubplot:xlabel='masterCategory', ylabel='count'>"
      ]
     },
     "execution_count": 358,
     "metadata": {},
     "output_type": "execute_result"
    },
    {
     "data": {
      "image/png": "[encoded data removed]",
      "text/plain": [
       "<Figure size 576x288 with 1 Axes>"
      ]
     },
     "metadata": {},
     "output_type": "display_data"
    }
   ],
   "source": [
    "sns.countplot(df['masterCategory'])"
   ]
  },
  {
   "cell_type": "code",
   "execution_count": 359,
   "id": "e9b5c9df",
   "metadata": {},
   "outputs": [
    {
     "data": {
      "text/plain": [
       "array(['Topwear', 'Bottomwear', 'Watches', 'Socks', 'Shoes', 'Belts',\n",
       "       'Flip Flops', 'Bags', 'Innerwear', 'Sandal', 'Shoe Accessories',\n",
       "       'Fragrance', 'Jewellery', 'Lips', 'Saree', 'Eyewear', 'Scarves',\n",
       "       'Dress', 'Loungewear and Nightwear', 'Wallets', 'Apparel Set',\n",
       "       'Headwear', 'Mufflers', 'Skin Care', 'Makeup', 'Free Gifts',\n",
       "       'Ties', 'Accessories', 'Nails', 'Beauty Accessories',\n",
       "       'Water Bottle', 'Skin', 'Eyes', 'Bath and Body', 'Gloves',\n",
       "       'Sports Accessories', 'Cufflinks', 'Sports Equipment', 'Stoles',\n",
       "       'Hair', 'Perfumes', 'Home Furnishing', 'Umbrellas', 'Wristbands',\n",
       "       'Vouchers'], dtype=object)"
      ]
     },
     "execution_count": 359,
     "metadata": {},
     "output_type": "execute_result"
    }
   ],
   "source": [
    "df['subCategory'].unique()"
   ]
  },
  {
   "cell_type": "code",
   "execution_count": 360,
   "id": "034febac",
   "metadata": {},
   "outputs": [
    {
     "data": {
      "text/plain": [
       "array(['Shirts', 'Jeans', 'Watches', 'Track Pants', 'Tshirts', 'Socks',\n",
       "       'Casual Shoes', 'Belts', 'Flip Flops', 'Handbags', 'Tops', 'Bra',\n",
       "       'Sandals', 'Shoe Accessories', 'Sweatshirts', 'Deodorant',\n",
       "       'Formal Shoes', 'Bracelet', 'Lipstick', 'Flats', 'Kurtas',\n",
       "       'Waistcoat', 'Sports Shoes', 'Shorts', 'Briefs', 'Sarees',\n",
       "       'Perfume and Body Mist', 'Heels', 'Sunglasses', 'Innerwear Vests',\n",
       "       'Pendant', 'Laptop Bag', 'Scarves', 'Dresses', 'Night suits',\n",
       "       'Skirts', 'Wallets', 'Blazers', 'Ring', 'Kurta Sets', 'Clutches',\n",
       "       'Shrug', 'Backpacks', 'Caps', 'Trousers', 'Earrings', 'Camisoles',\n",
       "       'Boxers', 'Jewellery Set', 'Dupatta', 'Capris', 'Lip Gloss',\n",
       "       'Bath Robe', 'Mufflers', 'Tunics', 'Jackets', 'Trunk',\n",
       "       'Lounge Pants', 'Face Wash and Cleanser', 'Necklace and Chains',\n",
       "       'Duffel Bag', 'Sports Sandals', 'Foundation and Primer',\n",
       "       'Sweaters', 'Free Gifts', 'Trolley Bag', 'Tracksuits', 'Swimwear',\n",
       "       'Shoe Laces', 'Fragrance Gift Set', 'Bangle', 'Nightdress', 'Ties',\n",
       "       'Baby Dolls', 'Leggings', 'Highlighter and Blush',\n",
       "       'Travel Accessory', 'Kurtis', 'Mobile Pouch', 'Messenger Bag',\n",
       "       'Lip Care', 'Nail Polish', 'Eye Cream', 'Accessory Gift Set',\n",
       "       'Beauty Accessory', 'Jumpsuit', 'Kajal and Eyeliner',\n",
       "       'Water Bottle', 'Suspenders', 'Face Moisturisers', 'Lip Liner',\n",
       "       'Robe', 'Salwar and Dupatta', 'Patiala', 'Stockings', 'Eyeshadow',\n",
       "       'Headband', 'Tights', 'Nail Essentials', 'Churidar',\n",
       "       'Lounge Tshirts', 'Face Scrub and Exfoliator', 'Lounge Shorts',\n",
       "       'Gloves', 'Wristbands', 'Tablet Sleeve', 'Ties and Cufflinks',\n",
       "       'Footballs', 'Compact', 'Stoles', 'Shapewear', 'Nehru Jackets',\n",
       "       'Salwar', 'Cufflinks', 'Jeggings', 'Hair Colour', 'Concealer',\n",
       "       'Rompers', 'Sunscreen', 'Booties', 'Mask and Peel', 'Waist Pouch',\n",
       "       'Hair Accessory', 'Body Lotion', 'Rucksacks', 'Basketballs',\n",
       "       'Lehenga Choli', 'Clothing Set', 'Mascara', 'Cushion Covers',\n",
       "       'Key chain', 'Rain Jacket', 'Toner', 'Lip Plumper', 'Umbrellas',\n",
       "       'Face Serum and Gel', 'Hat', 'Mens Grooming Kit', 'Makeup Remover',\n",
       "       'Body Wash and Scrub', 'Suits', 'Ipad'], dtype=object)"
      ]
     },
     "execution_count": 360,
     "metadata": {},
     "output_type": "execute_result"
    }
   ],
   "source": [
    "df['articleType'].unique()"
   ]
  },
  {
   "cell_type": "code",
   "execution_count": 361,
   "id": "cf20ec09",
   "metadata": {},
   "outputs": [
    {
     "data": {
      "text/plain": [
       "array(['Navy Blue', 'Blue', 'Silver', 'Black', 'Grey', 'Green', 'Purple',\n",
       "       'White', 'Beige', 'Brown', 'Bronze', 'Teal', 'Copper', 'Pink',\n",
       "       'Off White', 'Maroon', 'Red', 'Khaki', 'Orange', 'Yellow',\n",
       "       'Charcoal', 'Gold', 'Steel', 'Tan', 'Multi', 'Magenta', 'Lavender',\n",
       "       'Sea Green', 'Cream', 'Peach', 'Olive', 'Skin', 'Burgundy',\n",
       "       'Coffee Brown', 'Grey Melange', 'Rust', 'Rose', 'Lime Green',\n",
       "       'Mauve', 'Turquoise Blue', 'Metallic', 'Mustard', 'Taupe', 'Nude',\n",
       "       'Mushroom Brown', 'Fluorescent Green'], dtype=object)"
      ]
     },
     "execution_count": 361,
     "metadata": {},
     "output_type": "execute_result"
    }
   ],
   "source": [
    "df['baseColour'].unique()"
   ]
  },
  {
   "cell_type": "code",
   "execution_count": 362,
   "id": "a57ca096",
   "metadata": {},
   "outputs": [
    {
     "data": {
      "text/plain": [
       "array(['Fall', 'Summer', 'Winter', 'Spring'], dtype=object)"
      ]
     },
     "execution_count": 362,
     "metadata": {},
     "output_type": "execute_result"
    }
   ],
   "source": [
    "df['season'].unique()"
   ]
  },
  {
   "cell_type": "code",
   "execution_count": 363,
   "id": "46c2597a",
   "metadata": {},
   "outputs": [
    {
     "data": {
      "text/plain": [
       "array([2011., 2012., 2016., 2017., 2015., 2014., 2010., 2013., 2018.,\n",
       "       2019., 2007., 2009., 2008.])"
      ]
     },
     "execution_count": 363,
     "metadata": {},
     "output_type": "execute_result"
    }
   ],
   "source": [
    "df['year'].unique()"
   ]
  },
  {
   "cell_type": "code",
   "execution_count": 364,
   "id": "828f2a7a",
   "metadata": {},
   "outputs": [
    {
     "data": {
      "text/plain": [
       "<AxesSubplot:xlabel='year', ylabel='count'>"
      ]
     },
     "execution_count": 364,
     "metadata": {},
     "output_type": "execute_result"
    },
    {
     "data": {
      "image/png": "[encoded data removed]",
      "text/plain": [
       "<Figure size 576x288 with 1 Axes>"
      ]
     },
     "metadata": {},
     "output_type": "display_data"
    }
   ],
   "source": [
    "sns.countplot(df['year'])"
   ]
  },
  {
   "cell_type": "code",
   "execution_count": 365,
   "id": "0dc2773e",
   "metadata": {},
   "outputs": [
    {
     "data": {
      "text/plain": [
       "array(['Casual', 'Ethnic', 'Formal', 'Sports', 'Smart Casual', 'Travel',\n",
       "       'Party', 'Home'], dtype=object)"
      ]
     },
     "execution_count": 365,
     "metadata": {},
     "output_type": "execute_result"
    }
   ],
   "source": [
    "df['usage'].unique()"
   ]
  },
  {
   "cell_type": "code",
   "execution_count": 366,
   "id": "75e468f0",
   "metadata": {},
   "outputs": [
    {
     "data": {
      "text/plain": [
       "<AxesSubplot:xlabel='usage', ylabel='count'>"
      ]
     },
     "execution_count": 366,
     "metadata": {},
     "output_type": "execute_result"
    },
    {
     "data": {
      "image/png": "[encoded data removed]",
      "text/plain": [
       "<Figure size 576x288 with 1 Axes>"
      ]
     },
     "metadata": {},
     "output_type": "display_data"
    }
   ],
   "source": [
    "sns.countplot(df['usage'])"
   ]
  },
  {
   "cell_type": "code",
   "execution_count": 367,
   "id": "248dca4d",
   "metadata": {},
   "outputs": [
    {
     "data": {
      "text/plain": [
       "['Turtle Check Men Navy Blue Shirt',\n",
       " 'Peter England Men Party Blue Jeans',\n",
       " 'Titan Women Silver Watch',\n",
       " 'Manchester United Men Solid Black Track Pants',\n",
       " 'Puma Men Grey T-shirt',\n",
       " 'Inkfruit Mens Chain Reaction T-shirt',\n",
       " 'Fabindia Men Striped Green Shirt',\n",
       " 'Jealous 21 Women Purple Shirt',\n",
       " 'Puma Men Pack of 3 Socks',\n",
       " 'Skagen Men Black Watch',\n",
       " 'Puma Men Future Cat Remix SF Black Casual Shoes',\n",
       " 'Fossil Women Black Huarache Weave Belt',\n",
       " 'Fila Men Cush Flex Black Slippers',\n",
       " 'Murcia Women Blue Handbag',\n",
       " 'Ben 10 Boys Navy Blue Slippers',\n",
       " 'Reid & Taylor Men Check Purple Shirts',\n",
       " 'Police Men Black Dial Watch PL12889JVSB',\n",
       " 'Gini and Jony Girls Knit White Top',\n",
       " 'Bwitch Beige Full-Coverage Bra BW335',\n",
       " 'Baggit Women Brown Handbag',\n",
       " 'CASIO G-Shock Men Black Digital Watch G-7710-1DR G223',\n",
       " 'ADIDAS Men Spry M Black Sandals',\n",
       " 'Timberland Unisex Rubber Sole Brush Shoe Accessories',\n",
       " 'ADIDAS Men Lfc Auth Hood Grey Sweatshirts',\n",
       " 'David Beckham Signature Men Deos',\n",
       " 'Buckaroo Men Flores Black Formal Shoes',\n",
       " 'Pitaraa Women Bronze Beaded Bracelet',\n",
       " \"Fila Men's Round Neck Navy Blue T-shirt\",\n",
       " 'Colorbar Soft Touch Show Stopper Copper Lipstick 037',\n",
       " 'Murcia Women Casual Brown Handbag',\n",
       " 'John Players Men Navy Blue Shirt',\n",
       " \"Disney Kids Boy's Crew Sea Life Sialing Green Teen Kidswear\",\n",
       " 'John Players Men Brown Shirt',\n",
       " 'Gas Men Europa White Shoes',\n",
       " 'Carlton London Women Black & Gold Toned Flats',\n",
       " 'Diva Women Embroided Green Kurta',\n",
       " 'Rocky S Women White Handbag',\n",
       " 'Kiara Women Teal Handbag',\n",
       " 'Fossil Women Copper Chronograph Watch CH2589',\n",
       " \"Jealous 21 Women's Pink T-shirt\",\n",
       " 'Peter England Men Formal Black Belt',\n",
       " 'Catwalk Women Leather Brown Flats',\n",
       " 'Maxima Ssteele Men Off White Watch',\n",
       " 'W Women Printed Beige Kurta',\n",
       " 'Scullers Men  Grey Waistcoat',\n",
       " \"Nike Men's Incinerate MSL White Blue Shoe\",\n",
       " 'Puma Men Long Logo Black Bermuda',\n",
       " 'Levis Men Boxer Maroon Brief',\n",
       " 'John Miller Men Stripes White Red Shirts',\n",
       " 'Baggit Women Hood Dabang Black Belt',\n",
       " 'Maxima Women White Dial Watch',\n",
       " 'Clarks Men Hang Work Leather Black Formal Shoes',\n",
       " 'Vishudh Women Brown Kurta',\n",
       " 'Playboy Men Blue Titanium Briefs',\n",
       " 'Arrow Men Black Formal Shoes',\n",
       " \"Puma Men's Stripe Polo Black T-shirt\",\n",
       " 'Nike Women Purple Polo T-shirt',\n",
       " \"Gini and Jony Boy's Kaleb White Brown Kidswear\",\n",
       " 'Carrera Men Dial steel finish strap Silver Watches',\n",
       " 'Wrangler Men Motor Rider Red T-Shirts',\n",
       " 'FNF Pink & Grey Wedding Collection Sari',\n",
       " 'Puma Men Scribble Black Tshirts',\n",
       " 'CASIO EDIFICE Men Black Dial Chronograph Watch ED60',\n",
       " 'French Connection Women Beige Handbag',\n",
       " 'Timberland Men Black Casual Shoes',\n",
       " 'Vans Men Classic Slip-On Purple & Black Shoes',\n",
       " 'Police Women Passion Perfume',\n",
       " \"ADIDAS Men's Lowell White Silver Shoe\",\n",
       " 'Do U Speak Green Men Blue Shorts',\n",
       " 'ID Men Red Shoes',\n",
       " 'Peperone Women Black & White Handbag',\n",
       " 'Vans Men Khaki Shoes',\n",
       " 'Indigo Nation Men Reversible Bling Pink Shirts',\n",
       " 'Nike Women Black T-shirt',\n",
       " 'ADIDAS Men Blue Sweatshirt',\n",
       " 'Manchester United Men Solid Red Tshirt',\n",
       " 'Rocia Women Black Flats',\n",
       " 'Catwalk Women Leather Flats',\n",
       " 'Mineral Women Green Top',\n",
       " 'Crocs Dora Boots Pink Sandals',\n",
       " 'Image Men Sunglasses',\n",
       " 'Lotto Men XL Water Man Silver Slippers',\n",
       " 'United Colors of Benetton Men Solid Pink Polo T-shirts',\n",
       " 'Levis Men Comfort Style Grey Innerwear Vest',\n",
       " 'Reebok Men Black Possession Flip Flops',\n",
       " 'Lucera Women Silver Pendant',\n",
       " 'Maxima Men White Dial Analog Chronograph Watch',\n",
       " 'Peter England Unisex Orange Sleeve Bag',\n",
       " 'Puma Men Axis White & Grey Sports Shoes',\n",
       " 'Tonga Women Maroon Top',\n",
       " 'Femella Women Brown Scarf',\n",
       " \"ADIDAS Men's Twelve Faster T-shirt\",\n",
       " 'Arrow Woman Women Blue Dress',\n",
       " 'Levis Men Red Brief',\n",
       " 'Ganuchi Men Casual Black Sandals',\n",
       " 'SDL by Sweet Dreams Women Green Printed Night Suit S11-3124',\n",
       " 'Indigo Nation Men Printed Black T-shirt',\n",
       " 'DKNY Women Red Delicious Perfume',\n",
       " 'Urban Yoga Women Blue Skirt With Leggings',\n",
       " 'Gini and Jony Girls Black Top',\n",
       " 'Nike Men Air Rift MTR White Casual Shoe',\n",
       " 'ADIDAS Men White Corona Sports Shoes',\n",
       " 'Fastrack Unisex Black Dial Watch 9915PP13',\n",
       " 'Vans Men Blue Era Scilla Plaid Shoes',\n",
       " 'Crocs Kids Navy Blue Clogs',\n",
       " 'Classic Polo Men Vulcan White Polo Tshirts',\n",
       " 'Fila Men Destiny Grey Sports Shoes',\n",
       " 'ADIDAS Men Blue Chill Sports Shoes',\n",
       " 'Turtle Check Men Yellow Shirt',\n",
       " 'Arrow Men Black Wallet',\n",
       " 'Catwalk Women Gun Metal Grey Heels',\n",
       " 'United Colors of Benetton Women Solid Beige Wallets',\n",
       " 'Lotto Men Ridge Brown Sandals',\n",
       " 'U.S. Polo Assn. Men White & Navy Blue Shirt',\n",
       " 'Jockey ELANCE Men Bikini White Brief 1005',\n",
       " 'Scullers For Her Charcoal Blazer',\n",
       " 'Jealous 21 Women Black Jeans',\n",
       " 'iPanema Women Red Flip Flops',\n",
       " 'Fabindia Women Blue Silk Sling Bag',\n",
       " 'Carlton London Women Silver Wedge Sandal',\n",
       " 'Sushilas Women Printed Green Kurta',\n",
       " 'Lucera Women Silver Ring',\n",
       " \"Doodle Boy's Route 66 Biker Blue Teen Kidswear\",\n",
       " 'ADIDAS Unisex Three Small Dials White Watches',\n",
       " 'Ray-Ban Men Active Lifestyle Copper Sunglasses',\n",
       " 'ADIDAS Kids Adispeed Black Sports Shoes',\n",
       " 'Scullers Men  Green Check Shirt',\n",
       " 'Puma Men Fashion Cat White Slipper',\n",
       " 'Fastrack Men Economy 2 Analg Black Watch',\n",
       " 'United Colors of Benetton Men Solid Blue Sweatshirt',\n",
       " \"Puma Men's Large Logo Graphic Black T-shirt\",\n",
       " 'Giorgio Armani Women Idole Perfume',\n",
       " 'Aneri Women Black & Maroon Salwar Suit',\n",
       " 'Spice Art Women Ribbon Embroidery Red Clutch',\n",
       " 'Estd. 1977 Men Beige & Green Sandals',\n",
       " 'Rocky S Women Brown Handbag',\n",
       " 'Coolers Men Black Sandals',\n",
       " 'Levis Men Check Red Shirts',\n",
       " 'Tonga Women Pink Printed Shrug',\n",
       " 'Chromozome Men Grey Briefs',\n",
       " 'U.S. Polo Assn. Men Stripes Black  Polo Tshirt',\n",
       " 'Portia Women Copper-Toned & Brown Sandals',\n",
       " 'Spykar Men Black and white Check Shirt',\n",
       " 'Nike Unisex Swoosh Black Backpack',\n",
       " \"Myntra Men's Brain Black T-shirt\",\n",
       " 'Nike Men Air Relentless 2 MSL White Sports Shoes',\n",
       " 'ADIDAS Men Black Anzo Breeze Casual Shoes',\n",
       " 'Fastrack Women White Dial Watch',\n",
       " 'Revv Men Steel Bracelet',\n",
       " 'Lovable Women All Day Long Black Bra',\n",
       " 'Manchester United Men Solid White Cap',\n",
       " 'Rocia Women Black Heels',\n",
       " 'Puma Men ducati logo tee Yellow Tshirts',\n",
       " 'Numero Uno Men White Casual Shoes',\n",
       " 'Q&Q Men Silver-Toned Dial Analogue Watch Q252J404Y',\n",
       " 'Levis Men White Innerwear Vest',\n",
       " 'Maxima Men Black Dial Watch',\n",
       " \"Wrangler Men's Minstrel Shoulder Loop Purple T-shirt\",\n",
       " 'Wrangler Men Furious Rides Navy Blue T-Shirts',\n",
       " 'FNF Green Wedding Collection Sari',\n",
       " 'Rockport Men LLandro Red Casual Shoes',\n",
       " 'Skechers Women Green Shoe',\n",
       " 'Maxima Men Ssteele Silver Dial Watch',\n",
       " 'Titan Men Gold Dial Watch',\n",
       " 'John Miller Men Solid Type Black Trousers',\n",
       " 'Locomotive Men Navy Blue Printed T-shirt',\n",
       " 'Maxima Men Brown Dial Watch',\n",
       " 'United Colors Of Benetton Women Light Winter Black Sweatshirts',\n",
       " 'Catwalk Women Brown Sandals',\n",
       " 'Nike Fragrances Women 5th Element Perfume 150 ml',\n",
       " 'Kiara Women Graphiti White Handbag',\n",
       " 'Louis Philippe Men Grey Sunglasses',\n",
       " 'Mark Taylor Men Striped Blue Shirt',\n",
       " 'Fabindia Women Anusuya Silver Earrings',\n",
       " 'Lotto Unisex Canvas Black Check Shoe',\n",
       " 'Peter England Men Casual Tan Belt',\n",
       " 'Arrow Men Formal Black Shoe',\n",
       " 'Lino Perros Women Weaved  Grey Belt',\n",
       " 'Lee Women Paula Blue Top',\n",
       " 'Vans Unisex Black & Grey Classic Shoes',\n",
       " 'United Colors of Benetton Men Short Black Shirts',\n",
       " 'Reebok Men Pack of 2 Pirates of the Caribbean Deos',\n",
       " 'Nike Men Printed Black T-shirt',\n",
       " 'Colorbar Soft Touch Mousse Lipstick 025',\n",
       " 'ONLY Women directoire blue Trousers',\n",
       " 'Colour me Women Flowers Deo',\n",
       " 'Gini and Jony Girls Pretty Blossom Blue Top',\n",
       " 'Carlton London Men Formal Brown Formal Shoes',\n",
       " 'Vishudh Women Red Printed Kurta',\n",
       " 'ADIDAS Unisex Response ST Analogue Black Watch',\n",
       " 's.Oliver Women Stripes Beige Top',\n",
       " 'Nike Women Solid Pink Shorts',\n",
       " 'Red Rose Maroon Camisole',\n",
       " 'Probase Multicoloured Printed Boxers',\n",
       " 'Classic Polo Men Stripes Blue Tshirts',\n",
       " 'Baggit Women Blue Bag',\n",
       " \"UCB Men's Polo Neck With Lion Logo Navy Blue T-shirt\",\n",
       " 'Doodle Kids Girls Pink I love Shopping Top',\n",
       " 'Lotto Men Atlantica Black Sports Shoe',\n",
       " 'Little Miss Women Printed Grey T-shirt',\n",
       " 'ADIDAS Unisex Chicago Bulls Red Backpack',\n",
       " 'Jealous 21 Women Black Jegging',\n",
       " 'ADIDAS Men Sports Black Sports Shoes',\n",
       " 'Mother Earth Women Magenta Kurta',\n",
       " 'Numero Uno Men Black Flip Flops',\n",
       " 'Murcia Women Snake Print Bag Brown Handbags',\n",
       " \"Myntra Men's If You Don't Like Navy Blue T-shirt\",\n",
       " 'Estelle Women Earrings & Pendant Set',\n",
       " 'Aurelia Women Voile Orange Dupatta',\n",
       " 'DKNY Women White Dial Watch NY8472',\n",
       " 'ADIDAS Men Solid Navy Blue Track Pant',\n",
       " 'Gini and Jony Girls Black Capris',\n",
       " 'Gliders Men Esquire Red Flip Flops',\n",
       " 'ADIDAS Women Lavender Hagkok Sports Shoes',\n",
       " 'Enamor White Bra',\n",
       " 'Gini and Jony Kids Boys Solid Black Shorts',\n",
       " 'F Sports Men White Outlander Sports Shoes',\n",
       " 'Revlon Gold Dust Poussiere Doree Colorburst Lip Gloss 024',\n",
       " 'John Miller Men Dark Grey Trousers',\n",
       " 'Tantra Women Flower Heart Black Long T-shirt',\n",
       " 'Police Men White Dial Watch PL12698JS',\n",
       " 'Aurelia Women Sea Green Kurta',\n",
       " 'FILA Men Liga II Black Shoes',\n",
       " 'Estelle Women Gold Earrings',\n",
       " 'Jealous 21 Women Uaine Purple Tops',\n",
       " 'Tokyo Talkies Women Navy Slim Fit Jeans',\n",
       " 'Pal Zileri Men Casual Gold Frame Sunglasses',\n",
       " \"Puma Men's YugoRun Black White Shoe\",\n",
       " 'United Colors of Benetton Women Blue Top',\n",
       " 'Puma Men White and Navy Blue T-shirt',\n",
       " 'Doodle Kids Girls City Chic White Top',\n",
       " 'ONLY Women Black Top',\n",
       " 'Colour me Men Gold Deo',\n",
       " 'Baggit Women Lamboo Mayur Black Wallet',\n",
       " 'Elle Women Dark Pink Top',\n",
       " 'Nike Women Free Run Pink Sports Shoes',\n",
       " 'Estd. 1977 Men Black Sandals',\n",
       " 'ADIDAS Men Adi Cells Black Flip Flops',\n",
       " 'GAS Men Brown Count Casual Shoes',\n",
       " 'Red Rose Women White & Pink Polka Dot Print Bath Robe',\n",
       " 'Puma Unisex White Cap',\n",
       " 'United Colors Of Benetton Women Yellow Muffler',\n",
       " \"ADIDAS Women's Adi Groove Blue Flip Flop\",\n",
       " 'Coolers Men Brown Pokar Flip Flops',\n",
       " 'Baggit Women Beige Bag',\n",
       " 'Aurelia Women Navy Blue Kurta',\n",
       " 'Puma Men Cabana Racer Sketch White Sports Shoes',\n",
       " 'Locomotive Men Check Red Shirt',\n",
       " 'Nike Men White Capri II Casual Shoe',\n",
       " 'Scullers Men Scul Purple White Shirt',\n",
       " 'Fusion Beats Women White Printed Tunic',\n",
       " 'Mother Earth Women Blue Kurta',\n",
       " 'Inc 5 Women Brown Heels',\n",
       " 'Forever New Women Stone Cream Jacket',\n",
       " 'W Women Peach Kurta',\n",
       " 'Basics Men Blue Slim Fit Checked Shirt',\n",
       " 'Catwalk Women Golden Wedges',\n",
       " 'United Colors of Benetton Women Solid Purple Top',\n",
       " 'Scullers For Her Women Blue Top',\n",
       " 'Rocia Women Copper Sandals',\n",
       " \"Classic Polo Men's Swiss Yellow T-shirt\",\n",
       " \"Tantra Men's Black Sabbath Navy T-shirt\",\n",
       " 'Lino Perros Men Black Leather Belt',\n",
       " 'Gas Men Eldorado Tan Casual  Sandals',\n",
       " 'Enamor Women Pack of 3 Mid-Rise Bikini Brief',\n",
       " 'French Connection Men White T-shirt',\n",
       " 'Carlton London Women Wedge Silver Sandal',\n",
       " 'Yelloe Off White Fur Zip Clutch',\n",
       " 'Palm Tree Kids Girls Printed White Tops',\n",
       " 'Hanes Men Grey Ultimate Duo Dry Cotton Stretch Bikini Briefs',\n",
       " 'Revlon Super Lusterous Lipstick 304',\n",
       " 'Formula 1 Go Men Perfume',\n",
       " 'Palm Tree Girls Pink Top',\n",
       " 'ADIDAS Unisex Blue Cap',\n",
       " 'United Colors of Benetton Men Olive Tshirts',\n",
       " 'United Colors of Benetton Men Solid Black Wallets',\n",
       " 'Tokyo Talkies Women Yellow Top',\n",
       " 'Arrow Sport Men Solid White Polo Tshirts',\n",
       " 'Lotto Women Coral Elegant Flip Flops',\n",
       " 'Flying Machine Men Check Green Shirts',\n",
       " 'Wrangler Men Applique Navy Blue Tshirt',\n",
       " \"Puma Men's Winglet II Grey Yellow White Flip Flop\",\n",
       " 'Lee Cooper Men Brown Casual Sandals',\n",
       " 'Puma Men Olive Techno Ind Sandal',\n",
       " 'Urban Yoga Women Printed Pink T-shirt',\n",
       " 'Chromozome Men Charcoal Trunk Trunks',\n",
       " 'Palm Tree Boys Check Blue Shirt',\n",
       " 'Indigo Nation Men Club Satin Hot Stepper Navy Blue Shirt',\n",
       " 'Murcia Women White With Stitch Bag',\n",
       " 'Fastrack Men Black Watch',\n",
       " 'ADIDAS Men Stripe Polo White Polo T-shirt',\n",
       " 'Lovable Women Fiona Purple Bra',\n",
       " 'Jockey Women Blue Lounge Pants',\n",
       " 'Lotus Herbals Neem & Clove Purifying Face Wash',\n",
       " 'Sepia Women Printed Magenta Top',\n",
       " 'Arrow Woman Olive Top',\n",
       " 'Levis Men Grey Innerwear T-Shirt',\n",
       " 'Scullers Men Price Catch Black Shirts',\n",
       " 'Fabindia Beige & Maroon Mull Printed Saree',\n",
       " \"Gini and Jony Girl's Vanya White Polka Dot Kidswear\",\n",
       " 'Indian Terrain Men Blue T-shirt',\n",
       " 'Enroute Women Casual Black Flats',\n",
       " 'Baggit Women Umbrella Dum Brown Handbag',\n",
       " 'Lencia Grey Swarovski Pearl Necklace',\n",
       " 'CASIO SHEEN Women Red Dial Watch SX017',\n",
       " 'Maxima Men Black Watch',\n",
       " 'Mother Earth Women Printed Cream Kurta',\n",
       " 'Lino Perros Women Leatherite Orange Handbag',\n",
       " 'United Colors Of Benetton Men Summer Black Shirts',\n",
       " 'Wrangler Women White Smocked Top',\n",
       " 'United Colors of Benetton Men Pack of 2 Grey Socks',\n",
       " 'Esprit Women White Dial Watch',\n",
       " 'Wildcraft Unisex Red Duffle Bag',\n",
       " 'Nike Fragrances Women Trendy Perfume 75ml',\n",
       " 'J.Del Pozo Halloween Kiss Sexy Women Perfume',\n",
       " 'Wrangler Cowboy Photo T-shirt',\n",
       " 'Van Heusen Unisex Brown Sunglasses',\n",
       " 'Enroute Men Leather Black Formal Shoes',\n",
       " 'Reebok Men Navy Twist Sandals',\n",
       " 'Basics Men Pack of 3 T-shirt',\n",
       " 'Wildcraft Unisex Black Outdoor Backpack',\n",
       " \"Nike Men's As Icon Blue T-shirt\",\n",
       " 'Rasasi Men Emotion Deo and Perfume Set',\n",
       " 'Proline Men Navy Track Pants',\n",
       " 'Lino Perros Women Blue Zip Orange Wallet',\n",
       " 'Red Chief Men Black Shoes',\n",
       " 'Lakme Nine to Five Flawless Makeup Shell Foundation',\n",
       " 'United Colors of Benetton Men Stripes Red  Polo T-shirts',\n",
       " 'Reebok Women Charcoal Grey Fuel Techno Sports Shoes',\n",
       " 'Ray-Ban Men Active Lifestyle Black Sunglasses',\n",
       " 'John Miller Men Stripes Blue Shirts',\n",
       " 'ADIDAS Kids Boys Duramo Synthetic Black Sports Shoes',\n",
       " '109F Women Red & White Striped Tunic',\n",
       " 'Locomotive Men Washed Blue Jeans',\n",
       " 'Puma Men Danny Blue Slipper',\n",
       " 'United Colors of Benetton Men Solid Blue Sweater',\n",
       " \"Puma Men's Large Logo Graphic White French T-shirt\",\n",
       " 'Fastrack Men New Analog Black Navy Watch',\n",
       " 'Calzini Men Pack of 5 Sports Socks',\n",
       " 'Aneri Women Purple Salwar Suit',\n",
       " 'Bulgari Women Omnia Perfume',\n",
       " 'Elle Women Brown Trousers',\n",
       " 'United Colors of Benetton Men Casual Black Shoes',\n",
       " 'ADIDAS Men Kendall Black Navy Floater',\n",
       " 'Rocky S Women Red Clutch',\n",
       " 'Q&Q Men Black Digital Watch',\n",
       " 'Turtle Solid Men  Burgundy Shirt',\n",
       " 'Helix Women Silver Dial Watch',\n",
       " 'United Colors of Benetton Women Solid Coffee Brown Wallets',\n",
       " 'Titan Men Black Dial Watch',\n",
       " 'Morellato Men Black Watch',\n",
       " 'Wrangler Men Polo Charcoal T-shirt',\n",
       " 'Franco Leone Men Brown Sandals',\n",
       " 'Bulchee Men Plain Jeans White Belt',\n",
       " 'Jockey ELANCE Men Grey Melange Y Front Briefs 1006',\n",
       " 'Fabindia Women Black Silk Handbag',\n",
       " 'Jealous 21 Women Washed Blue Jeans',\n",
       " 'Palm Tree Kids Boy Solid Brown Trousers',\n",
       " 'French Connection Women Blue Top',\n",
       " \"Doodle Boy's Athletic 77 Dept Yellow Teen Kidswear\",\n",
       " 'Gini and Jony Girls Red Top',\n",
       " 'ADIDAS Men Vigor Blue Casual Shoes',\n",
       " 'Lino Perros Men Pack of 2 Socks',\n",
       " \"ADIDAS Men's Stripe Black T-shirt\",\n",
       " 'ADIDAS Original Men Black Dial Chronograph Watch ADH2641',\n",
       " 'Enroute Women Casual White Heels',\n",
       " 'ADIDAS Men Intense Touch  Perfume',\n",
       " 'Ganuchi Men Casual Olive Sandals',\n",
       " 'Maxima Men White Dial Watch',\n",
       " 'Denizen Women Blue Jeans',\n",
       " 'Puma Women Grace Silver Sandals',\n",
       " 'SDL by Sweet Dreams Women Pink & Black Printed Night Suit S11-3134',\n",
       " \"Jealous 21 Women's Aaren Black Jegging\",\n",
       " 'Urban Yoga Women Black Track Pants',\n",
       " 'Indigo Nation Men Grey Striped Shirt',\n",
       " 'Indigo Nation Men Checks Shirt Navy Blue Shirts',\n",
       " 'Lakme Absolute Matte Merlot Lipstick 45',\n",
       " 'Nike Unisex Hayward 25M Grey Backpack',\n",
       " 'Jockey Women Black Lounge Pants',\n",
       " 'ADIDAS Men Sukoi White Sports Shoes',\n",
       " 'Fila Men Grey Hex Sports Shoes',\n",
       " 'Wildcraft Unisex Black Backpack',\n",
       " 'John Players Men Check Blue Shirt',\n",
       " 'Lotto Women XL Kelly Pink Slippers',\n",
       " 'Mineral Women Grey Skirt',\n",
       " \"ADIDAS Men's Slim Fit White T-shirt\",\n",
       " 'Levis Men Comfort Style White Innerwear Vest',\n",
       " 'Maxima Men Silver Dial Attivo Watch',\n",
       " 'Mother Earth Women Printed Yellow Kurta',\n",
       " 'Lee Cooper Men Black Sports Shoes',\n",
       " 'Peter England Unisex Black One Dayer Black Trolley Bag',\n",
       " 'JAG Men Black Leather Wallet',\n",
       " 'Lee Men Blue Chicago Fit Jeans',\n",
       " 'United Colors of Benetton Men Black T-shirt',\n",
       " 'Tonga Women Grey Top',\n",
       " 'Puma Women Kuris Silver & Grey Sports Shoes',\n",
       " 'Femella Women Yellow & Blue Scarf',\n",
       " 'Nike Men Red Delhi T-shirt',\n",
       " 'Puma Men Cavallino Black Shoe',\n",
       " \"Gini and Jony Boy's Kaleb White Brown Infant Kidswear\",\n",
       " 'Wrangler Men Dirt Riders White T-Shirts',\n",
       " 'FNF Rust Wedding Collection Sari',\n",
       " 'French Connection Women Multi Stripe Hand Bag',\n",
       " 'Allen Solly Woman Purple Bangle',\n",
       " 'Facit Men Black Brief',\n",
       " 'Do u speak Green Girls Olive 3/4 Pant',\n",
       " 'Police Women Passion Deo',\n",
       " 'U.S. Polo Assn. Men Printed  Steeple Grey Tshirt',\n",
       " 'Mark Taylor Men Printed Maroon T-shirt',\n",
       " 'Vans Men Maroon & Grey Era Shoes',\n",
       " 'Manchester United Men Printed White Tshirt',\n",
       " 'ADIDAS Men Grey Striped T-shirt',\n",
       " 'Indigo Nation Men Bling Red Black Shirts',\n",
       " 'Puma Men Poly Knitted Black Tracksuit',\n",
       " \"Jealous 21 Women's Red Peace T-shirt\",\n",
       " 'Fossil Men Quartz Black Dial Chronograph Watch JR1303',\n",
       " 'W Women Printed Black Kurta',\n",
       " 'Puma Men Solid Blue Track Pants',\n",
       " 'Scullers Men Red Check Shirt',\n",
       " 'Sepia Women Pink Top',\n",
       " 'Park Avenue Men Black Sunglasses',\n",
       " 'John Miller Men Red Striped Shirt',\n",
       " 'Puma Women Essential Skinny Black 3/4 Pant',\n",
       " 'Maxima Women Silver Dial Watch',\n",
       " 'Baggit Women White Capri Taj Belt',\n",
       " 'Kiara Women Brown Handbag',\n",
       " 'Nabaiji Swimming Goggles Blue Black',\n",
       " 'Lino Perros Women Leatherite Brown Handbag',\n",
       " 'Reid & Taylor Men Formal Black Belt',\n",
       " 'Fabindia Silver Earrings',\n",
       " 'Kiara Women Sequins Copper Handbag',\n",
       " 'Spice Art Women Black Handbag',\n",
       " 'Allen Solly Women Red Shorts',\n",
       " \"UCB Men's Johny Collar With Two Tone Grey T-shirt\",\n",
       " 'ADIDAS Men Sports White Sports Shoes',\n",
       " 'ADIDAS Men Black Jersey',\n",
       " 'Buckaroo Men loma Tan Casual Shoes',\n",
       " 'Timberland Unisex Hiker Round Lace Shoe Accessories',\n",
       " 'Reebok Reebounce Women Perfumes',\n",
       " 'Arrow Woman Blue Shirt',\n",
       " 'Doodle Kids Boy Check Green Shirt',\n",
       " 'Carlton London Women Blue & Cream Shoes',\n",
       " 'Fila Men Lobato Black Casual Shoes',\n",
       " 'Rocia Women Black & Brown Sandals',\n",
       " 'John Players Men Beige Shorts',\n",
       " 'Rocky S Women Beige Handbag',\n",
       " 'Gini and Jony Boys Core Red T-shirt',\n",
       " 'Peter England Men Party Black Jeans',\n",
       " 'Turtle Solid Men Red Shirt',\n",
       " 'Music Men Printed Blue T-shirt',\n",
       " 'Flying Machine Men Walnut Brown Tshirts',\n",
       " 'Titan Women White Watch',\n",
       " 'Flying Machine Women Solid Pink Tops',\n",
       " 'Inkfruit Men Ride It Or Die T-shirt',\n",
       " 'Fabindia Men Blue Shirt',\n",
       " 'Enamor Rose Full Figure Bra FF07',\n",
       " 'Puma Women Pack of 3 Socks',\n",
       " \"Red Tape Men's Black Formal Shoe\",\n",
       " 'Jealous 21 Women Check Navy Blue Top',\n",
       " 'Aneri Women Jazz Brown Kurta',\n",
       " 'Fossil Women Brown Huarache Weave Belt',\n",
       " 'Puma Men Axis XT Black Shoes',\n",
       " 'Bwitch Red Lace  Briefs',\n",
       " 'ADIDAS Men Delhi Daredevil Blue Cap',\n",
       " 'U.S. Polo Assn. Men Solid Navy Blue Tshirt',\n",
       " 'Puma Men Black Aquil II Sports Shoes',\n",
       " 'Manchester United Men Navy Blue Striped T-shirt',\n",
       " 'Mother Earth Women Pink Kurta',\n",
       " 'Wrangler Women Pink T-shirt',\n",
       " 'United Colors Of Benetton Women Light Winter Grey Tops',\n",
       " 'Lino Perros Women Silver Clutch',\n",
       " 'Nike Fragrances Women Sensual Touch Perfume and Deo Set',\n",
       " 'Wildcraft Unisex Black & Grey Duffel Bag',\n",
       " 'Baggit Women Tijori Viva Brown Wallet',\n",
       " 'United Colors of Benetton Men Stripes Green Socks',\n",
       " \"Superman Men's Silhouette Light Blue T-shirt\",\n",
       " 'Nike Unisex Ultimatum Max Backpack',\n",
       " 'ADIDAS Men Receptor Grey Sandals',\n",
       " \"Nike Women's Smash Pink T-shirt\",\n",
       " 'Ed Hardy Men New Tiger White T-Shirt',\n",
       " \"Spalding Men's Black and White Graphic Flip Flop\",\n",
       " 'Van Heusen Unisex Sunglasses VH216-C2',\n",
       " 'Lino Perros Women Denim Blue Wallet',\n",
       " 'Red Chief Men Black Formal Shoes',\n",
       " 'Proline Men Charcoal Grey Track Pants',\n",
       " 'Lakme 9to5 Flawless Makeup Marble Foundation',\n",
       " 'United Colors of Benetton Men Stripes Black Polo T-shirts',\n",
       " 'Scullers Men Beige Trousers',\n",
       " 'Lee Cooper Men Black Formal Shoes',\n",
       " 'Peter England Men Stripes Maroon Shirt',\n",
       " 'ADIDAS Men Black Sweatshirt',\n",
       " 'Puma Men Ferrari Lifestyle Red Cap',\n",
       " 'Gini and Jony Boys Check Blue Shirt',\n",
       " 'Chromozome Men Pack of Two Trunks',\n",
       " 'U.S. Polo Assn. Unisex Casual Olive Backpack',\n",
       " 'Murcia Women Turquoise Blue Handbag',\n",
       " 'Classic Polo Men Striped Navy Blue T-shirt',\n",
       " 'Puma Men Standpunkt Brown Casual Shoes',\n",
       " 'Hanes Men Sleeveless V Neck Red Innerwear T-shirt',\n",
       " 'Jockey Women Grey Melange Shorts',\n",
       " \"ADIDAS Women's Black T-shirt\",\n",
       " 'Fastrack Men White Dial Watch',\n",
       " 'Sepia Women Printed Black & Green Tunic',\n",
       " 'Reebok Women Reeflex Run Blue Sports Shoes',\n",
       " 'Levis Men Maroon Innerwear Vest',\n",
       " 'Baggit Women Selection Mayur Black Sling Bag',\n",
       " 'ALayna Women Off White  Kurta',\n",
       " 'FILA Men Aruba Navy Blue Sandal',\n",
       " 'CASIO SHEEN Women Black Dial Watch SX041',\n",
       " 'Lencia White Swarovski Pearl Necklace',\n",
       " 'Rocia Women Black Shoes',\n",
       " \"UCB Men's Making Light Pink T-shirt\",\n",
       " 'Gliders Men Brown Leather Sandals',\n",
       " \"Tantra Men's Whatever Purple T-shirt\",\n",
       " 'Yelloe Black Animal Print Clutch',\n",
       " \"Nike Men's Colors Team India T-shirt\",\n",
       " 'French Connection Men Maroon T-shirt',\n",
       " 'BIBA Women Printed Multi Coloured Kurta',\n",
       " 'Gini and Jony Girls Black Dress',\n",
       " '4711 Kolnisch Wasser Men Perfume',\n",
       " 'Revlon Super Lustrous Plum Baby Lipstick 313',\n",
       " 'United Colors of Benetton Women Denim Black Jeans',\n",
       " 'Arrow Men Black & Brown Reversible Belt',\n",
       " 'Tokyo Talkies Women Pink Top',\n",
       " 'Reid & Taylor Men Brown Wallet',\n",
       " 'Amante White Bra BCSO01',\n",
       " \"Mod'acc Women Black Handbag\",\n",
       " 'Catwalk Women Casual Black Heels',\n",
       " 'Flying Machine Men Solid White Shirts',\n",
       " 'Puma Men Black T-shirt',\n",
       " 'Lotto Women Red & Orange Disco Holic Flip Flops',\n",
       " 'Kalenji Ekiden Comfort Prime 2011',\n",
       " 'Aneri Women Blue & Brown Printed Kurta',\n",
       " 'ONLY Women Brown Shorts',\n",
       " 'Lee Men Solid Blue Shirts',\n",
       " 'Wrangler Women Stella Green Shirt',\n",
       " 'Elle Women Green Essentials Top',\n",
       " 'Fila Men Camper Brown Sandals',\n",
       " 'Baggit Women Rade Doko Teal Handbag',\n",
       " 'Colour Me Women Pink Perfume',\n",
       " 'GAS Men Grey Namib Shoes',\n",
       " 'ADIDAS Men Plugged In Yellow Flip Flops',\n",
       " 'Nike Men Dunk High Grey Shoes',\n",
       " 'Converse Unisex Black Shoes',\n",
       " 'United Colors Of Benetton Women Grey Muffler',\n",
       " 'Aurelia Women Black Kurta',\n",
       " 'Park Avenue Men Cruise Deo',\n",
       " 'Scullers Men Check Red Shirts',\n",
       " 'Baggit Women Green Handbag',\n",
       " 'Fusion Beats Women Dark Pink Tunic',\n",
       " 'Scullers For Her Women Fashion Summer Lite Aubergine Tunics',\n",
       " 'Nike Women Beige Dunk High Casual Shoes',\n",
       " 'Puma Men Future Cat Remix SF White Sports Shoes',\n",
       " 'Probase Men Check Blue Cap',\n",
       " 'Royal Diadem Set of 2 Golden Bangles',\n",
       " 'Inc 5 Women Casual Maroon Sandals',\n",
       " 'Mother Earth Women Printed Maroon Kurta',\n",
       " 'Basics Men Orange Polo T-shirt',\n",
       " 'Catwalk Women Multi-coloured Heels',\n",
       " 'W Women Brown Kurta',\n",
       " \"UCB Women's Crystal Benetton Green T-shirt\",\n",
       " 'Gini and Jony Girls Pink Capris',\n",
       " 'ADIDAS Men Solid Grey Track Pant',\n",
       " 'Enamor Women Lavender Nightdress',\n",
       " 'Jealous 21 Women Teal Shirt',\n",
       " 'ADIDAS Men Navy Blue Benton Sandals',\n",
       " 'Gliders Men Esquire Blue Flip Flops',\n",
       " 'Gini and Jony Kids Boys Check Blue Shirts',\n",
       " 'F Sports Men Black Pace Sports Shoes',\n",
       " 'Aspen Women White Dial Watch',\n",
       " 'Police Men Black Dial Watch PL12170JSB',\n",
       " \"Classic Polo Men's Grey Red & Brown Stripe T-shirt\",\n",
       " 'John Miller Men Striped Grey Trousers',\n",
       " 'Revlon ColorBurst Hot Pink Lip Gloss 10',\n",
       " 'Turtle Men Stripes Burgundy Ties',\n",
       " 'ADIDAS Women Polka Pink Flip Flops',\n",
       " 'United Colors of Benetton Women Solid Grey Dresses',\n",
       " \"Puma Men's Faas Blue White Silver Red Shoe\",\n",
       " 'Arrow Men Brown Formal Shoes',\n",
       " 'Arrow Men Yellow Polo T-shirt',\n",
       " 'Pal Zileri Men Casual Steel Frame Sunglasses',\n",
       " 'Puma Men Green and Blue T-shirt',\n",
       " 'United Colors of Benetton Women Purple Shirt',\n",
       " 'ONLY Women Orange Trousers',\n",
       " 'Colorbar Soft Touch Venus Lipstick 034',\n",
       " 'Vishudh Women Brown Printed Kurta',\n",
       " 'Carlton London Men Black Oxford Wingtip Brogues',\n",
       " 'Gini and Jony Girls Pretty Blossom Pink Top',\n",
       " 'Cavallini Women Deo',\n",
       " 'Peri Peri Women White Bra',\n",
       " 'Nike Men Special Edition 3 Star Beed Black Tshirts',\n",
       " 'Red Rose Pink & Black Nightdress',\n",
       " 's.Oliver Women Grey Shirt',\n",
       " 'ADIDAS Unisex Toronto Hand Black Watch',\n",
       " 'Gini and Jony Boys United Red T-shirt',\n",
       " 'Classic Polo Men Stripes Black Tshirts',\n",
       " 'Lotto Men Basketball Mid White Sports Shoe',\n",
       " 'Little Miss Women Printed Rust T-shirt',\n",
       " 'Doodle Kids Girls White I love Shopping Top',\n",
       " 'UCB Men Logo Chest Green Shirt',\n",
       " 'Allen Solly Kids Girls Poplin Pink Shorts',\n",
       " 'Baggit Women Black Voodoo Gang Handbag',\n",
       " \"Jealous 21 Women's BFF Printed White Top\",\n",
       " 'Enamor Women Peach Bra',\n",
       " 'Numero Uno Men White Shoes',\n",
       " 'Pitaraa Women Purple Sling Bag',\n",
       " 'David Beckham Intimately Men Deos',\n",
       " 'Mother Earth Women Dark Brown Kurta',\n",
       " 'Aurelia Women Solid Purple Leggings',\n",
       " 'Estelle Women Gold Earring & Pendant Set',\n",
       " \"Myntra Women's I Want You Black T-shirt\",\n",
       " 'Locomotive Men Checked Green Shirt',\n",
       " 'Murcia Women Hahk Brown Handbags',\n",
       " 'Lotus Herbals Moistpetals Rudy Pink Lipstick 140',\n",
       " 'Titan Men Cream Dial Watch',\n",
       " 'Reebok Men trackpant- male Track Pants',\n",
       " 'United Colors Of Benetton Women Light Winter Grey T-Shirts',\n",
       " 'Nike Fragrances Women Spicy Love Perfume 150 ml',\n",
       " 'Esprit Men Grey Dial Watch',\n",
       " 'Nike Men Lunarswift+ 3 Shield Grey Sports Shoes',\n",
       " \"Marvel Comics Men's Comic Poses Navy T-shirt\",\n",
       " 'ADIDAS Women Whalf Striper White Top',\n",
       " 'Fossil Men Black Dial Watch AM4384',\n",
       " 'Lino Perros Women Weaved  Navy Blue Belt',\n",
       " 'Aneri Women Ashna Blue Kurta',\n",
       " 'Lotto Unisex Canvas Black Grey Shoe',\n",
       " 'Peter England Men Casual Brown Belt',\n",
       " 'Reebok Women Reestyle Deo',\n",
       " 'Red Tape Men Casual Black Casual Shoes',\n",
       " 'Lee Women Katie Navy Blue Top',\n",
       " \"Nike Men's Lunarswift Black Shoe\",\n",
       " 'Flying Machine Women This & That Grey Tshirt',\n",
       " 'Classic Polo Men Printed Navy Blue T-shirt',\n",
       " 'French Connection Women Black Buffy Clutch',\n",
       " 'Levis Men Check Black Shirts',\n",
       " 'Tonga Women White & Pink Top',\n",
       " \"Spykar Men's Stinger Basket Ball Team White Blue Stripes T-shirt\",\n",
       " 'Portia Women Brown Flats',\n",
       " 'U.S. Polo Assn. Men Stripes Blue Polo Tshirt',\n",
       " 'Arrow Men Navy Blue Solid Trousers',\n",
       " 'Nike Men Wardour Chukka Yellow Casual Shoes',\n",
       " \"Myntra Men's Creative designs Black T-shirt\",\n",
       " 'Nike Unisex U Black Caps',\n",
       " 'Rocia Women Beige Flats',\n",
       " 'Indigo Nation Men Reversible Bling Maroon Shirt',\n",
       " 'Fastrack Women Grey Dial Watch',\n",
       " 'Nike Men Grey T-shirt',\n",
       " 'Numero Uno Men Navy Blue Casual Shoes',\n",
       " 'Puma Men Puma runhard tee Grey Tshirts',\n",
       " 'Levis Men Navy Blue Briefs',\n",
       " 'Q&Q Men Steel Digital Watch',\n",
       " \"Wrangler Men's Greensboro Raw Edge Blue T-shirt\",\n",
       " 'Wills Lifestyle Women Red Clutch',\n",
       " 'Nike Women Glide White Grey Shoe',\n",
       " 'Maxima Men Black Dial Attivo Watch',\n",
       " 'CASIO G-Shock Men Black Digital Watch DW-5600E-1VDF G001',\n",
       " 'Rockport Men CV Toe HI Charcoal Casual Shoes',\n",
       " 'ADIDAS Men Navy Blue Sweatshirt',\n",
       " 'Gini and Jony Boys Check Red Shirt',\n",
       " 'Puma Women Purple Techno Sandals',\n",
       " 'Urban Yoga Women Printed Rust T-shirt',\n",
       " 'Peter England Men Stripes Charcoal Trouser',\n",
       " 'French Connection Women Beige Clutch',\n",
       " 'Colorbar Glamour Radiant Glow 001',\n",
       " 'Timex Men Olive Green Dial Watch DV10',\n",
       " 'Lovable Women Fiona Brown Bra',\n",
       " 'Indigo Nation Men Price catch Blue Shirts',\n",
       " 'Nike Unisex Classic Turf Pink Backpack',\n",
       " 'Levis Men Beige Innerwear T-shirt',\n",
       " 'ADIDAS Men Bayern Munchen Red Jersey',\n",
       " 'ADIDAS Women Pink Handbag',\n",
       " 'Fila Men Glow White Sports Shoes',\n",
       " 'Being Human Men Grey Dial Blue Strap Watch',\n",
       " 'Peter England Unisex Brown Laptop Bag',\n",
       " 'Maxima Ssteele Men Black Dial Watch',\n",
       " 'Franco Leone Men Formal Shoes',\n",
       " 'Red Tape Men Black Sandals',\n",
       " 'DC Comics Lantern Arrow All Over Green T-shirt',\n",
       " 'Wildcraft Unisex Rust Orange Travel Pouch',\n",
       " 'Nike Men Zoom Structure White Sports Shoes',\n",
       " \"Mr.Men Men's Mr.Mischief Pink T-shirt\",\n",
       " 'Lino Perros Women Flower LT.Brown Wallet',\n",
       " \"Mr.Men Men's Wave Rider White T-shirt\",\n",
       " 'Basics Men White T-shirt',\n",
       " 'Decathlon Men Arpenaz Black Sandals',\n",
       " 'United Colors of Benetton Men Printed White Tshirts',\n",
       " 'Campbell Men Pack of 3 Solid Tshirts',\n",
       " 'Reebok Men Sprintfit Lite Black Sports Shoe',\n",
       " 'United Colors of Benetton Women Sunglass',\n",
       " 'United Colors of Benetton Women Casual Sunglasses',\n",
       " 'Aneri Women Pink & White Kurta',\n",
       " 'Fossil Men Black Dial Watch ME1113',\n",
       " 'Puma Unisex Black Backpack',\n",
       " 'Gini and Jony Boys United White T-shirt',\n",
       " 'Bata Men Hummer Grey Sandals',\n",
       " 'Peri Peri Women Black Bra',\n",
       " 'Nike Men The Overplay VII Black Sports Shoes',\n",
       " 'Scullers Men Scul Navy Blue Shirt',\n",
       " 'Playboy Men Malibu Deo',\n",
       " 'Scullers Men Stripes Beige Shirts',\n",
       " 'United Colors of Benetton Women White Top',\n",
       " \"Puma Men's Foundation Grey Polo T-shirt\",\n",
       " 'Fastrack Men Brown Belt',\n",
       " 'Forever New Women Indigo Wash Blue Jacket',\n",
       " 'Fabindia Women Green Sling Bag',\n",
       " 'iPanema Women Blue Flip Flops',\n",
       " 'Inc.5  Women Grey Flats',\n",
       " 'Scullers For Her Women Printed Navy Blue Shirt',\n",
       " 'Classic Polo Classic Polo Swiss Brown Tee T-Shirt',\n",
       " 'Jockey ZONE Men Zone White Brief US18',\n",
       " 'Fastrack Women Nylon Black Handbag',\n",
       " 'ADIDAS Originals Men Solid Green Jacket',\n",
       " 'Formula 1 Men Power Perfume',\n",
       " 'Helix Women Black Watch',\n",
       " 'Hanes Men Black Ultimate Duo Dry Cotton Stretch Bikini Briefs',\n",
       " 'Carlton London Women Four Strapped Black Sandal',\n",
       " 'Reid & Taylor Men Black Wallet',\n",
       " 'United Colors Of Benetton Men Heavy Winter Grey Sweaters',\n",
       " 'Arrow Men Brown Leather Wallet',\n",
       " 'FIFA Mens Essentials Red T-shirt',\n",
       " 'Arrow Sport Men Solid Green Polo Tshirts',\n",
       " 'ADIDAS Men Black Vanquish Sports Shoes',\n",
       " 'Basics Men Red Casual Shoes',\n",
       " 'Murcia Women Casual Black Handbag',\n",
       " 'Aneri Women Khaki Kurta',\n",
       " 'Colorbar Soft Touch Spring Fling Lipstick 023',\n",
       " 'Buckaroo Men Brown Casual Shoes',\n",
       " 'Red Rose Red Camisole',\n",
       " 'Global Desi Women Multi Coloured Kurta',\n",
       " \"Disney Kids Girl's Summer Fun Fair Yellow Teen Kidswear\",\n",
       " 'Aneri Women Multi Coloured Kurti',\n",
       " 'ADIDAS Men Sports Blue Sports Shoes',\n",
       " 'ADIDAS Unisex Blue Backpack',\n",
       " 'CASIO ENTICER Men Black Analogue Watch BS112 ',\n",
       " 'Baggit Brown Handbag',\n",
       " 'Scullers Men Check Black Shirts',\n",
       " 'United Colors of Benetton Men Printed Grey TShirt',\n",
       " 'Pitaraa Silver Omelette Thin Bracelet',\n",
       " 'Murcia Women Silver Black Purse Silver Handbags',\n",
       " \"Forever New Women's Top Black Dress\",\n",
       " 'Ed Hardy Life Love & Luck by Christian Audigier for Women Perfume',\n",
       " 'Vogue Women White Sunglasses',\n",
       " 'Jealous 21 Women Printed Teal T-shirt',\n",
       " 'Scullers For Her Women Pink Shirt',\n",
       " 'Fabindia Women Blue Kurta',\n",
       " 'Police Men Black Dial Chronograph Watch PL12699JS-02',\n",
       " 'Aurelia Women Brown & Orange Kurta',\n",
       " 'Reid & Taylor Men Solid Cream Shirts',\n",
       " 'Fossil Women Brown Belt',\n",
       " 'Mark Taylor Men Plain Blue Shirts',\n",
       " 'United Colors of Benetton Women Solid Blue Bags',\n",
       " 'Turtle Men Leather Black Belts',\n",
       " 'Puma Men Blue T-shirt',\n",
       " 'Pal Zileri Men Casual Metal Frame Sunglasses',\n",
       " 'Titan Men White Dial Automatic Watch NB9365SL01',\n",
       " \"ADIDAS Men's Boris White Shoe\",\n",
       " 'Do u speak Cream Men T-shirt',\n",
       " 'Chromozome Men Navy Blue Briefs',\n",
       " 'French Connection Women Purple Handbag',\n",
       " 'Manchester United Men Solid Black Cap',\n",
       " 'ADIDAS Men White Duramo 3 Sports Shoes',\n",
       " 'Indigo Nation Men Checks Green Shirts',\n",
       " 'Indigo Nation Men Bling PC Red Shirt',\n",
       " \"Gini and Jony Boy's Kangaroo Green White Kidswear\",\n",
       " 'Nike Men Printed Red T-shirt',\n",
       " 'CASIO Youth Series Digital Men Black Small Dial Digital Watch W-210-1CVDF I065',\n",
       " 'Fila Men Glow Black Sports Shoes',\n",
       " 'FNF Sea Green Collection For Wedding Sari',\n",
       " 'Rockport Men Jelba Brown Flip Flops',\n",
       " 'Wrangler Men Rider Striper Polo White T-Shirts',\n",
       " 'John Miller Men Reglur Black Trousers',\n",
       " 'Baggit Women Green Mobile Pouch',\n",
       " 'Titan Women White Dial Watch',\n",
       " 'Tokyo Talkies Women Blue Top',\n",
       " 'J. DEL POZO Women In White Perfume 100 ml',\n",
       " 'iPanema Women Pink Flip Flops',\n",
       " 'Indigo Nation Men Formal Brown Belts',\n",
       " 'Arrow Men Formal Black Shoes',\n",
       " 'Peter England Men Casual Navy Blue Belt',\n",
       " 'Jealous 21 Women White Sleeveless Top',\n",
       " 'Wrangler Men Green Striped Shirt',\n",
       " 'Revv Men Steel Bangle',\n",
       " 'Nike Men Air Quick Handle Red Sports Shoe',\n",
       " 'John Miller Men White Shirt',\n",
       " 'Lino Perros Women Solid Beige Handbag',\n",
       " 'Puma Women Dizzy  Black Belt',\n",
       " \"Nike Men's Air Max Moto White Blue Shoe\",\n",
       " 'Park Avenue Blue Patterned Tie',\n",
       " 'United Colors of Benetton Women Solid Red Wallets',\n",
       " 'Lotto Men Ridge Black Sandals',\n",
       " 'Rocia Women Brown Wedges',\n",
       " 'Catwalk Women Lifestyle Black Heels',\n",
       " 'Arrow Men Brown Wallet',\n",
       " 'Wrangler Men Heavy Grey Tshirt',\n",
       " 'Flying Machine Men Pack of 2 Stripes Red Blue Tshirts',\n",
       " 'Lotto Men Maroon Juve Flip Flop',\n",
       " \"Nike Men's Speed Fury Red T-shirt\",\n",
       " 'Morellato Men Navy Blue Watch',\n",
       " 'U.S. Polo Assn. Men Striped Blue Shirt',\n",
       " 'Lotto Men Earth Black Slipper',\n",
       " \"Red Tape Men's Brown casual Shoe\",\n",
       " 'ADIDAS Unisex Black Backpack',\n",
       " 'Franco Leone Men Black Formal Shoes',\n",
       " 'Scullers For Her Navy Blue T-shirt',\n",
       " 'Gini and Jony Boys Solid Black Jeans',\n",
       " 'Revlon Velvet Touch Royal Burgundy Lipstick 96',\n",
       " 'Reid & Taylor Men Solid Black Socks',\n",
       " 'Palm Tree Kids Boys Solid White Jackets',\n",
       " 'Catwalk Women Blue Casual Flats',\n",
       " 'Carlton London Women Gold Wedge Sandal',\n",
       " 'French Connection Women Off White Top',\n",
       " '109F Blue A-Line Dress',\n",
       " 'Enroute Women Turquoise Blue Flats',\n",
       " 'Scullers Men Black Check Shirt',\n",
       " 'Nike Women Grey Lunarglide +3 Sports Shoes',\n",
       " 'Puma Men Cat  White Belt',\n",
       " 'Locomotive Men Printed Brown TShirt',\n",
       " 'Park Avenue Men Brown Tie',\n",
       " 'Fila Women Top Fuel Black Sports Shoes',\n",
       " \"UCB Men's Johny Collar With Two Tone White T-shirt\",\n",
       " 'United Colors of Benetton Men Solid Grey Sweatshirt',\n",
       " 'Arrow Men White Cap',\n",
       " 'Aurelia Women Printed Red Kurta',\n",
       " 'Royal Diadem Red Earring & Pendant Set',\n",
       " 'Elle Women Teal Top',\n",
       " 'Mumbai Slang Women Pink & Black Kurti',\n",
       " 'Taylor of London Women White Satin Perfume',\n",
       " 'Baggit Women Chotu Dum Blue Belt',\n",
       " 'Femella Women Yellow Dress',\n",
       " 'Lee Women Check Red Shirts',\n",
       " \"Nike Men's Splash Thong Yellow Black Flip Flop\",\n",
       " 'United Colors Of Benetton Women Black Muffler',\n",
       " 'Q&Q Men White Dial Watch',\n",
       " 'Rocky S Women Blue Handbag',\n",
       " 'GAS Men Grey Campus Casual Shoes',\n",
       " 'Filac Men Hawai Black Slippers',\n",
       " 'Red Rose White & Green Nightdress',\n",
       " 'Estd. 1977 Men Turquoise Blue Sandals',\n",
       " 'OTLS Men Laurel Black Wallet',\n",
       " 'Maxima Men Off White Dial Watch',\n",
       " 'Proline Men Cream-Coloured Polo T-Shirt',\n",
       " 'Catwalk Women Red Flats',\n",
       " 'Wildcraft Unisex Grey Printed Messenger Bag',\n",
       " \"Nike Men's Encourage Blue T-shirt\",\n",
       " 'Enroute Men Leather Brown Casual Shoes',\n",
       " 'ADIDAS Mens Fire White Polo T-shirt',\n",
       " 'Catwalk Women Bronze toned Sandals',\n",
       " 'Reebok Women Black Casual Shoes',\n",
       " 'United Colors of Benetton Men Solid Blue Shirts',\n",
       " 'Scullers Men Grey Trousers',\n",
       " 'Lakme Lip Love Hottie Lip Conditioner',\n",
       " \"Tantra Men's Prism Black T-shirt\",\n",
       " 'Image Women Classic Eyewear Brown Sunglasses',\n",
       " 'Lino Perros Women Red and Grey Handbag',\n",
       " 'Clarks Women Brown Leather Heels',\n",
       " 'Jack & Jones Men Dino White T-shirt',\n",
       " 'Femella Women Printed Brown Scarf',\n",
       " 'dunhill Men Fresh Perfume',\n",
       " 'Wildcraft Unisex Black & Red Messenger Bag',\n",
       " 'United Colors of Benetton Men Solid Green Mufflers',\n",
       " 'Scullers Men Stripes Red Sweaters',\n",
       " \"Levi's Men White Brief\",\n",
       " 'Arrow Woman Beige Top',\n",
       " 'Basics Men Navy Shirt',\n",
       " 'Sepia Women Brown Tunic',\n",
       " 'Quiksilver Men Black Socks',\n",
       " 'Little Miss Girls Chatterbox Navy Blue Dress',\n",
       " 'American Tourister Unisex Black Backpack',\n",
       " 'Gini and Jony Girls Pink Top',\n",
       " 'Chromozome Men Red Briefs',\n",
       " 'U.S. Polo Assn. Men Solid Black  polo Tshirt',\n",
       " 'DKNY Women Delicious Night Perfume',\n",
       " 'Urban Yoga Women Blue Capris',\n",
       " 'Peter England Men Stripes Blue Shirt',\n",
       " 'Timex Men Black Dial Watch',\n",
       " \"Jealous 21 Women's All Girls Dying Jealousy Pink Top\",\n",
       " 'Jockey Women Assorted Lounge Pants',\n",
       " 'Nike Mens Blue Polo T-shirt',\n",
       " 'Fastrack Women Black Dial Watch',\n",
       " 'ADIDAS Men White Aztek Shoes',\n",
       " 'Indigo Nation Men Plain Orange Shirts',\n",
       " 'Lakme Absolute Matte Milan Red Lipstick 48',\n",
       " 'Gas Men Skate 003 Casual Shoe',\n",
       " 'Clarks Women Cream Coloured Onslow Beat Leather Wedges',\n",
       " 'Catwalk Women Wedding Heeled Bronze Heels',\n",
       " 'Maxima Ssteele Men Black Watch',\n",
       " \"Lotto Men's Thong Blue White Flip Flop\",\n",
       " 'Peter England Men Formal Brown Belt',\n",
       " 'Fossil Men Black Dial Chronograph Watch CH2737',\n",
       " 'Puma Men Graphic White TShirt',\n",
       " 'Lino Perros Men Brown Wallet',\n",
       " 'Nike Men White T-Lite 9 SL Shoes',\n",
       " 'Puma Women Solid Pink Sweatshirts',\n",
       " 'Sepia Women Purple Top',\n",
       " 'Streetwear Grape Shimmer Nail Polish 41',\n",
       " 'Locomotive Men Printed Charcoal T-shirt',\n",
       " 'Clarks Men Goto Hi Cola Suede Brown Shoes',\n",
       " 'Titan Men White Dial Watch',\n",
       " 'Nike Men Free Run+ 2 Black Sports Shoes',\n",
       " 'Kiara Women Rose Pink Handbag',\n",
       " 'Fila Men Leonard Red Shoes',\n",
       " 'Lee Cooper Men Black Semi Formal Shoe',\n",
       " 'Fabindia Silver Drop Earrings',\n",
       " 'Q&Q Women White Dial Watch',\n",
       " \"Reebok Kids Kkr Boy's Premium Blue Jerseys\",\n",
       " \"Reebok Men's Easytone Inspire White Shoe\",\n",
       " 'Casio Edifice Men Analog Watch EF-130D-1A5VDF(ED419)',\n",
       " 'FNF Khaki Collection for Wedding Sari',\n",
       " 'Rockport Women Jeanie Oneband Brown Flats',\n",
       " 'Fossil Men Blue Dial Chronograph Watch CH2752',\n",
       " 'Spinz Women Enchante Deo',\n",
       " \"ADIDAS Men's Canon Dialect Blue Yellow Shoe\",\n",
       " 'Footfun Kids Unisex Red Shoes',\n",
       " 'U.S. Polo Assn. Men Stripes DK.Grey Polo Tshirt',\n",
       " 'Arrow Woman Brown Jeggings',\n",
       " 'Tonga Women Olive Top',\n",
       " 'Rocia Women Maroon Sandals',\n",
       " 'Deni Yo Men White Jeans',\n",
       " 'Nike Men Black Sweatshirt',\n",
       " 'Fila Women Sleeker Green Check Casual Shoes',\n",
       " 'Wrangler Women Black Belt',\n",
       " 'American Tourister Men Black Wallet',\n",
       " 'Mark Taylor Men Printed Blue T-shirt',\n",
       " \"Myntra Men's I Give 100 Percent Work White T-shirt\",\n",
       " 'ID Men White Shoes',\n",
       " 'Nike Women Downshifter White Sports Shoes',\n",
       " 'Vishudh Women Pink Churidar Kurta with Dupatta',\n",
       " 'Flying Machine Men Ydc Blue Shirts',\n",
       " 'SDL by Sweet Dreams Men Black & Grey Pyjama Set',\n",
       " 'Peter England Men Black Jeans',\n",
       " 'Flying Machine Men Stripes Blue Polo Tshirts',\n",
       " 'Puma Women Speeder Wns Ind White Sports Shoes',\n",
       " 'United Colors of Benetton Men Pink Shirt',\n",
       " \"Puma Men's Tarun White Silver Red Shoe\",\n",
       " 'Park Avenue Men Grey Melange Briefs',\n",
       " 'Enamor Maroon Bra FB06',\n",
       " 'Red Tape Men Brown Shoes',\n",
       " 'Enroute Teens Brown Sandals',\n",
       " \"Lee Women's Rihana Purple T-shirt\",\n",
       " 'Peter England Men Black Belt',\n",
       " 'Doodle Boys living Upto White Tshirt',\n",
       " 'Lucera Women Silver Pendant with Chain',\n",
       " 'Police Men Black Dial Watch PL12778MSU-61',\n",
       " 'American Tourister Unisex Purple Messenger Bag',\n",
       " 'CSK Mens Fangear Yellow Jersey',\n",
       " 'Reid & Taylor Men White Shirt',\n",
       " 'Sushilas Women Multi Coloured Kurta',\n",
       " 'Catwalk Women Silver Flats',\n",
       " 'SKAGEN DENMARK Men Silver-Toned Dial Watch 233LSS',\n",
       " '109F Women Multi Coloured Dress',\n",
       " 'ADIDAS Men Snova Glide Blue Sports Shoes',\n",
       " 'Force 10 Men Black & Green Sports Shoes',\n",
       " 'Satya Paul Women Green Printed Kaftan',\n",
       " 'CASIO G-Shock Men White Analogue & Digital Watch G274',\n",
       " 'John Miller Men Black Checks Shirts',\n",
       " 'Nike Fragrances Women Sensual Touch Perfume',\n",
       " \"UCB Women's Young Pigment Blue T-shirt\",\n",
       " 'Baggit Women Purple Phulrani Brush Mobile Pouch',\n",
       " 'Arrow Woman Grey T-shirt',\n",
       " 'Aurelia Women Solid Beige Leggings',\n",
       " 'Estelle Women Earrings',\n",
       " 'Nike Women Track Tote Pink Handbag',\n",
       " 'Buckaroo Men Medina Brown Formal Shoes',\n",
       " 'Vans Men Black Era Shoes',\n",
       " 'Timberland Unisex Casual Brown Casual Shoes',\n",
       " 'Nike Men Football Soccer Red Jerseys',\n",
       " 'Fastrack Men UV protected Sporty Wrap Sunglasses',\n",
       " 'Baggit Women Purple Belt',\n",
       " 'Olay Women Total Effects Anti-Ageing Eye Cream',\n",
       " 'Playboy Men Black Shoes',\n",
       " 'Murcia Women Casual Black Clutch',\n",
       " 'Colorbar Soft Touch Wood Heart Lipstick 039',\n",
       " 'Diva Women Printed White Kurta',\n",
       " 'Q&Q Men Black Dial Watch',\n",
       " 'Urban Yoga Women Solid Pink Sweatshirts',\n",
       " 'Gas Men Mila Navy Blue Shoes',\n",
       " 's.Oliver Women Printed Black Shirt',\n",
       " \"Disney Kids Boy's Regatta Annual Blue Teen Kidswear\",\n",
       " 'Baggit Women Blue Handbag',\n",
       " 'Kiara Women Beige Handbag',\n",
       " 'Reebok Women Boat-Neck Wildberry Sweatshirt',\n",
       " 'Lotus Herbals Moistpetals Berry Punch Lipstick 121',\n",
       " 'J.Del Pozo Halloween Women Perfume',\n",
       " 'Tokyo Talkies Women White T-shirt',\n",
       " 'Kiara Women Glossy White Handbag',\n",
       " 'Catwalk Women Blue & White Sandals',\n",
       " 'Wrangler Men Purple Striped Shirt',\n",
       " 'Jealous 21 Women Black Shimmery Falling Neck Top',\n",
       " 'Lino Perros Women Solid Brown Handbag',\n",
       " 'Nike Men Air Impetus II White Sports Shoe',\n",
       " 'John Miller Men  White Shirt',\n",
       " 'Rocia Women Casual Black Sandal',\n",
       " 'Red Tape Men Casual Brown Casual Shoes',\n",
       " 'U.S. Polo Assn. Men Printed Limoges Blue Tshirt',\n",
       " 'Portia Women White Flats',\n",
       " 'Classic Polo Men Black T-shirt',\n",
       " 'French Connection Women Maroon Wallet',\n",
       " 'Indigo Nation Men Bling Technification Red Black Shirts',\n",
       " 'ADIDAS Men Brown Shoes',\n",
       " 'Fastrack Men Gunmetal-Toned Dial Watch NA3015AL01',\n",
       " ...]"
      ]
     },
     "execution_count": 367,
     "metadata": {},
     "output_type": "execute_result"
    }
   ],
   "source": [
    "df['productDisplayName'].unique().tolist()"
   ]
  },
  {
   "cell_type": "markdown",
   "id": "d065bb07",
   "metadata": {},
   "source": [
    "## Now Save 1st data set for analysis "
   ]
  },
  {
   "cell_type": "code",
   "execution_count": 368,
   "id": "5057df7d",
   "metadata": {},
   "outputs": [],
   "source": [
    "df.to_csv('CleanedFashion1.csv' , index = False)"
   ]
  },
  {
   "cell_type": "markdown",
   "id": "d39bc6a0",
   "metadata": {},
   "source": [
    "# ---------------------------------------------------------------------------------------"
   ]
  },
  {
   "cell_type": "markdown",
   "id": "8e2f0a07",
   "metadata": {},
   "source": [
    "## Read 2nd Dataset "
   ]
  },
  {
   "cell_type": "code",
   "execution_count": 292,
   "id": "1b4fead8",
   "metadata": {},
   "outputs": [
    {
     "data": {
      "text/html": [
       "<div>\n",
       "<style scoped>\n",
       "    .dataframe tbody tr th:only-of-type {\n",
       "        vertical-align: middle;\n",
       "    }\n",
       "\n",
       "    .dataframe tbody tr th {\n",
       "        vertical-align: top;\n",
       "    }\n",
       "\n",
       "    .dataframe thead th {\n",
       "        text-align: right;\n",
       "    }\n",
       "</style>\n",
       "<table border=\"1\" class=\"dataframe\">\n",
       "  <thead>\n",
       "    <tr style=\"text-align: right;\">\n",
       "      <th></th>\n",
       "      <th>ProductID</th>\n",
       "      <th>ProductName</th>\n",
       "      <th>ProductBrand</th>\n",
       "      <th>Gender</th>\n",
       "      <th>Price (INR)</th>\n",
       "      <th>NumImages</th>\n",
       "      <th>Description</th>\n",
       "      <th>PrimaryColor</th>\n",
       "    </tr>\n",
       "  </thead>\n",
       "  <tbody>\n",
       "    <tr>\n",
       "      <th>0</th>\n",
       "      <td>10017413</td>\n",
       "      <td>DKNY Unisex Black &amp; Grey Printed Medium Trolle...</td>\n",
       "      <td>DKNY</td>\n",
       "      <td>Unisex</td>\n",
       "      <td>11745</td>\n",
       "      <td>7</td>\n",
       "      <td>Black and grey printed medium trolley bag, sec...</td>\n",
       "      <td>Black</td>\n",
       "    </tr>\n",
       "    <tr>\n",
       "      <th>1</th>\n",
       "      <td>10016283</td>\n",
       "      <td>EthnoVogue Women Beige &amp; Grey Made to Measure ...</td>\n",
       "      <td>EthnoVogue</td>\n",
       "      <td>Women</td>\n",
       "      <td>5810</td>\n",
       "      <td>7</td>\n",
       "      <td>Beige &amp; Grey made to measure kurta with churid...</td>\n",
       "      <td>Beige</td>\n",
       "    </tr>\n",
       "    <tr>\n",
       "      <th>2</th>\n",
       "      <td>10009781</td>\n",
       "      <td>SPYKAR Women Pink Alexa Super Skinny Fit High-...</td>\n",
       "      <td>SPYKAR</td>\n",
       "      <td>Women</td>\n",
       "      <td>899</td>\n",
       "      <td>7</td>\n",
       "      <td>Pink coloured wash 5-pocket high-rise cropped ...</td>\n",
       "      <td>Pink</td>\n",
       "    </tr>\n",
       "    <tr>\n",
       "      <th>3</th>\n",
       "      <td>10015921</td>\n",
       "      <td>Raymond Men Blue Self-Design Single-Breasted B...</td>\n",
       "      <td>Raymond</td>\n",
       "      <td>Men</td>\n",
       "      <td>5599</td>\n",
       "      <td>5</td>\n",
       "      <td>Blue self-design bandhgala suitBlue self-desig...</td>\n",
       "      <td>Blue</td>\n",
       "    </tr>\n",
       "    <tr>\n",
       "      <th>4</th>\n",
       "      <td>10017833</td>\n",
       "      <td>Parx Men Brown &amp; Off-White Slim Fit Printed Ca...</td>\n",
       "      <td>Parx</td>\n",
       "      <td>Men</td>\n",
       "      <td>759</td>\n",
       "      <td>5</td>\n",
       "      <td>Brown and off-white printed casual shirt, has ...</td>\n",
       "      <td>White</td>\n",
       "    </tr>\n",
       "  </tbody>\n",
       "</table>\n",
       "</div>"
      ],
      "text/plain": [
       "   ProductID  ... PrimaryColor\n",
       "0   10017413  ...        Black\n",
       "1   10016283  ...        Beige\n",
       "2   10009781  ...         Pink\n",
       "3   10015921  ...         Blue\n",
       "4   10017833  ...        White\n",
       "\n",
       "[5 rows x 8 columns]"
      ]
     },
     "execution_count": 292,
     "metadata": {},
     "output_type": "execute_result"
    }
   ],
   "source": [
    "df = pd.read_csv('myntra_products_catalog.csv')\n",
    "df.head()"
   ]
  },
  {
   "cell_type": "markdown",
   "id": "d782202b",
   "metadata": {},
   "source": [
    "##### drop unneeded columns "
   ]
  },
  {
   "cell_type": "code",
   "execution_count": 293,
   "id": "6b3a6acf",
   "metadata": {},
   "outputs": [],
   "source": [
    "df.drop(['ProductName' , 'Description'] , axis = 1 , inplace = True)"
   ]
  },
  {
   "cell_type": "code",
   "execution_count": 294,
   "id": "fab239b9",
   "metadata": {},
   "outputs": [
    {
     "data": {
      "text/plain": [
       "ProductID       0.000000\n",
       "ProductBrand    0.000000\n",
       "Gender          0.000000\n",
       "Price (INR)     0.000000\n",
       "NumImages       0.000000\n",
       "PrimaryColor    7.157153\n",
       "dtype: float64"
      ]
     },
     "execution_count": 294,
     "metadata": {},
     "output_type": "execute_result"
    }
   ],
   "source": [
    "# check missing records \n",
    "df.isnull().mean()*100"
   ]
  },
  {
   "cell_type": "code",
   "execution_count": 295,
   "id": "3d1e63f8",
   "metadata": {},
   "outputs": [],
   "source": [
    "from sklearn.impute import SimpleImputer"
   ]
  },
  {
   "cell_type": "code",
   "execution_count": 296,
   "id": "b4671977",
   "metadata": {},
   "outputs": [],
   "source": [
    "imputer = SimpleImputer(strategy = 'most_frequent')"
   ]
  },
  {
   "cell_type": "code",
   "execution_count": 297,
   "id": "380bcc51",
   "metadata": {},
   "outputs": [
    {
     "data": {
      "text/plain": [
       "array([[' Black'],\n",
       "       [' Beige'],\n",
       "       [' Pink'],\n",
       "       ...,\n",
       "       ['Blue'],\n",
       "       ['Blue'],\n",
       "       [' Black']], dtype=object)"
      ]
     },
     "execution_count": 297,
     "metadata": {},
     "output_type": "execute_result"
    }
   ],
   "source": [
    "imputer.fit_transform(df[['PrimaryColor']])"
   ]
  },
  {
   "cell_type": "markdown",
   "id": "4fbeb731",
   "metadata": {},
   "source": [
    "* Deal with categorical missing data with mode values to fill missing "
   ]
  },
  {
   "cell_type": "code",
   "execution_count": 298,
   "id": "739164a9",
   "metadata": {},
   "outputs": [],
   "source": [
    "df['PrimaryColor'] = imputer.fit_transform(df[['PrimaryColor']])"
   ]
  },
  {
   "cell_type": "code",
   "execution_count": 299,
   "id": "028ae572",
   "metadata": {},
   "outputs": [
    {
     "data": {
      "text/plain": [
       "0"
      ]
     },
     "execution_count": 299,
     "metadata": {},
     "output_type": "execute_result"
    }
   ],
   "source": [
    "# no duplicated records \n",
    "df.duplicated().sum()"
   ]
  },
  {
   "cell_type": "code",
   "execution_count": 301,
   "id": "d234c719",
   "metadata": {},
   "outputs": [
    {
     "data": {
      "text/plain": [
       "array(['DKNY', 'EthnoVogue', 'SPYKAR', 'Raymond', 'Parx', 'SHOWOFF',\n",
       "       'Kenneth Cole', 'Police', 'Vishudh', 'Being Human', 'Homesake',\n",
       "       'SEJ by Nisha Gupta', 'YAK YAK', 'PARFAIT', 'Michael Kors',\n",
       "       'HIGHLANDER', 'JEWEL JUNCTION', 'ID', 'Story@home',\n",
       "       'Gini and Jony', 'Sera', 'AccessHer', 'Alcis',\n",
       "       'Difference of Opinion', 'Tokyo Talkies', 'ANNA SUI',\n",
       "       'her by invictus', 'Soie', 'Lara Karen', 'Urban Dog', 'ahilya',\n",
       "       'VASTRAMAY', 'Campus Sutra', 'FIDO DIDO', 'MIAH Decor', 'BuckleUp',\n",
       "       'Peter England', 'AIGNER', 'Lady Lyka', 'Park Avenue', 'Roadster',\n",
       "       'U.S. Polo Assn. Denim Co.', 'Sweet Dreams', 'Kazo', 'Stylo Bug',\n",
       "       'Bvlgari', 'Qraa Men', 'GAS', 'WITH', 'ZUSH', 'JBN Creation',\n",
       "       'U.S. Polo Assn. Kids', 'DressBerry', 'ColorPlus', 'Lakme',\n",
       "       'Allen Solly Woman', 'Palm Tree', 'Arrow', 'DAVID BECKHAM',\n",
       "       'MANGO', 'Carrera', 'ROMEE', 'TAYHAA', 'Ishin', 'Shoe Couture',\n",
       "       'HARBORNBAY', 'Keds', 'Rozia', 'Aj DEZInES', 'Monte Carlo', 'even',\n",
       "       'ether', 'Crimsoune Club', 'Russell Athletic', 'MIMOSA', 'Puma',\n",
       "       'Blackberrys', 'Playdate', 'Rocia', 'Marvel by Wear Your Mind',\n",
       "       'Annabelle by Pantaloons', 'berrytree', 'SIMON CARTER LONDON',\n",
       "       'Beli', 'Nautica', 'Jn Joy', 'THE SILHOUETTE STORE', 'Xpose',\n",
       "       'MBE', 'Mast & Harbour', 'JC Collection', 'GUESS', 'NEUDIS',\n",
       "       'StyleStone', 'SASSAFRAS', 'United Colors of Benetton', 'VLCC',\n",
       "       'Kook N Keech Disney', 'Bubblegummers', 'Hoopers',\n",
       "       'Peter England Casuals', 'Honey by Pantaloons', 'Pink Cow',\n",
       "       'DOROTHY PERKINS', 'Crew STREET', 'Bhama Couture', 'Zippo',\n",
       "       'Daffodils', 'aramis', 'C9 AIRWEAR', 'Oxolloxo', 'Soumya', 'Crocs',\n",
       "       'Carlton London', 'HERE&NOW', 'French Connection', 'Next Look',\n",
       "       'XYXX', 'shaze', 'Bitiya by Bhama', 'Geox', 'Tulsattva',\n",
       "       'ExclusiveLane', 'SHISEIDO', 'MSC', 'Anekaant', 'Innisfree',\n",
       "       'Wintage', 'LOCOMOTIVE', 'Bene Kleed', 'Varanga',\n",
       "       'HRX by Hrithik Roshan', 'Avira Home', 'Force 10', 'maxima',\n",
       "       'Aapno Rajasthan', 'Fortune', 'Moedbuille', 'Blue Saint', 'MASPAR',\n",
       "       'W', 'SCORPIUS', 'Ecko Unltd', 'BERING', 'Healers', 'Kvsfab',\n",
       "       'MOVADO', 'CINOCCI', 'Mitera', 'Harvard', 'Ojjasvi', 'Wild stone',\n",
       "       'AVANT-GARDE PARIS', 'Gliders', 'U&F', 'Abhishti', 'Dreamscape',\n",
       "       'OddCroft', 'Flying Machine', 'IT luggage', 'Nike', 'One Friday',\n",
       "       'Indibelle', 'Dynamocks', 'Arrow New York', 'Titan', 'Zoop',\n",
       "       'Levis', 'IVOC', 'Athena', 'Elizabeth Arden', 'Arrow Sport',\n",
       "       'Red Tape', 'PANAHI', 'Veni Vidi Vici', 'CODE by Lifestyle',\n",
       "       'Fame Forever by Lifestyle', 'Sonata', 'Yuris', 'Sherrif Shoes',\n",
       "       'TIMESMITH', 'Cherry Crumble', 'Senorita', 'CHUTPUT',\n",
       "       'Slumber Jill', 'Metro', 'Marks & Spencer', 'Fastrack',\n",
       "       'DODO & MOA', 'FabSeasons', 'Shaily', 'Mirchi Fashion',\n",
       "       'Sergio Tacchini', 'Janasya', 'Bossini', 'Rajnandini',\n",
       "       'Call It Spring', 'Coolers', 'Chhabra 555', 'LA LOFT', 'Cottinfab',\n",
       "       'Calvin Klein', 'Liberty', 'IMYOUNG', 'CLAY CRAFT',\n",
       "       'Crunchy Fashion', 'Respiro', 'trueBrowns', 'Trend Arrest',\n",
       "       'Besiva', 'INCOLOR', 'Kraus Jeans', 'RICHARD PARKER by Pantaloons',\n",
       "       'Mali Fionna', 'Kryptic', 'San Frissco', 'You Got Plan B',\n",
       "       'The Kaftan Company', 'Simply', 'Infuzze', 'Sir Corbett',\n",
       "       'HOME DECOR INDIA', 'Vero Moda', 'Be Indi', 'Da Intimo', 'Camey',\n",
       "       'Solemio', 'MsFQ', 'Forever New', 'Killer', 'AURELIA',\n",
       "       'Miss Chase', 'Saadgi', 'Lee Cooper', 'Foolzy', 'ZHEIA',\n",
       "       'Friskers', 'UCLA', 'Genie', 'Femmora', 'Fos Lighting',\n",
       "       'FirstClap', 'Clovia', 'Style Quotient', 'Rajasthan Decor',\n",
       "       'SG YUVRAJ', 'URBAN TRIBE', 'CASIO', 'VRINDA', 'Lady Stark',\n",
       "       'Newton', 'Bodycare', 'Alvaro Castagnino', 'Organic Harvest',\n",
       "       'Campus', 'Free Authority', 'Dennmarks', 'Voylla', 'Wish Karo',\n",
       "       'MBOSS', 'Mochi', 'ELLE', 'OBSESSIONS', 'Living Essence',\n",
       "       'GIORDANO', 'Hi RELs', 'DDecor', 'INVICTUS', 'Evoke 1899',\n",
       "       'Newport', 'Schwarzkopf PROFESSIONAL', 'Louis Philippe', 'PANIT',\n",
       "       'SELECTED', 'SOJANYA', 'Sangria', 'Divine Casa', 'Unravel India',\n",
       "       'Steenbok', 'Belle Fille', 'Kittens', 'Slub', 'Blissta', 'Alena',\n",
       "       'SWHF', 'JUMP USA', 'St. Ives', 'FabAlley', 'Nucleus',\n",
       "       'Home Sparkle', 'shiloh', 'Allen Solly', 'KLEIO', 'Maniac',\n",
       "       'Globus', 'Fourwalls', 'AKKRITI BY PANTALOONS', 'Genius',\n",
       "       'Bohemia Crystal', 'EQUINOX', 'Zink London', 'YASH GALLERY',\n",
       "       'Sparx', 'Van Heusen', 'YK', 'Blue Giraffe', 'Silvermerc Designs',\n",
       "       'Black coffee', 'Jacques Lemans', 'ZIYAA',\n",
       "       'SKULT by Shahid Kapoor', 'PERFKT-U', 'Zeal', 'Cortina', 'plusS',\n",
       "       'V Dot', 'Shoetopia', 'Eavan', 'Masch Sports', 'Devis', 'Namyaa',\n",
       "       'ONLY', 'Eske', 'MIWAY', 'Smiley World', 'Maserati', 'Archies',\n",
       "       'Marie Claire', 'Chumbak', 'Aber & Q', 'People', 'GMF', 'ABELINO',\n",
       "       'COVER STORY', 'Karmic Vision', 'Bonjour', 'Deco Window', 'ADIVA',\n",
       "       'Latin Quarters', 'Moda Rapido', 'Indian Terrain', 'RARE', 'SOLES',\n",
       "       'Lavie', 'Truffle Collection', 'GAP', 'KARATCART', 'Priyaasi',\n",
       "       'Mine4Nine', 'CHROME & CORAL', 'FAUSTO',\n",
       "       'ADORN by Nikita Ladiwala', 'Hancock', 'Calvin Klein Jeans',\n",
       "       'Secret Temptation', 'HEATWAVE', 'BownBee', 'Baggit', 'Force NXT',\n",
       "       'URBANE', 'Canary London', 'Jack & Jones', 'fancy mart',\n",
       "       'ADORENITE', 'Hypernation', 'Pantaloons Junior',\n",
       "       'Minions by Kook N Keech', 'Caprese', 'SUITLTD', 'Harpa', 'Taavi',\n",
       "       'Geroo Jaipur', 'Bamboo Tree Jewels', 'Kappa', 'Sher Singh',\n",
       "       'Morpheme Remedies', 'KiddoPanti', 'ANTS', 'Allen Cooper',\n",
       "       'Pure Home and Living', 'ComicSense.xyz', 'Louis Philippe Sport',\n",
       "       'Monrow', 'breya', 'RANGMANCH BY PANTALOONS', 'Wonder Woman',\n",
       "       'Melange by Lifestyle', 'CERIZ', 'Eego Italy', 'Knotyy', 'mf',\n",
       "       'Chemistry', 'TREEMODA', 'Chambor', 'OOMPH', 'KazarMax', 'Chkokko',\n",
       "       'Duke', 'Club York', 'BBLUNT', 'Jewels Galaxy', 'Molly & Michel',\n",
       "       'The Beauty Co.', 'Libas', 'Pipa Bella', 'FOSH', 'Freehand',\n",
       "       'Ed Hardy', 'Aditi Wasan', 'Akiva', 'Franco Leone', 'Mufti',\n",
       "       '7Rainbow', 'beevee', 'Yellow Jeans', 'Soludos', 'Tresmode',\n",
       "       'bigbanana', 'Rex Straut Jeans', 'hummel', 'E2O',\n",
       "       'CAVALLO by Linen Club', 'Tommy Hilfiger', 'PRESTO', 'Tistabene',\n",
       "       'boAt', 'DENNISON', 'U.S. Polo Assn.', \"Kurti's by Menka\",\n",
       "       'Saree mall', 'Forca by Lifestyle', 'VALIOSAA',\n",
       "       'Ginger by Lifestyle', 'Iti', 'Stylee LIFESTYLE', 'JAINISH',\n",
       "       'Cation', 'WROGN', 'GODS', 'Disney by Wear Your Mind',\n",
       "       'Calvin Klein Underwear', 'Ayesha', 'Woodland', 'INDYA',\n",
       "       'meriggiare', 'BIANCA', 'Kook N Keech Marvel', 'Just Wow',\n",
       "       'Golden Peacock', 'Rosaline', 'Wildcraft', 'Rubans',\n",
       "       'Zaveri Pearls', 'CUTECUMBER', 'HAMMER', 'PrettyCat',\n",
       "       'Johnny Bravo by Kook N Keech', 'Zivame', 'Kook N Keech Garfield',\n",
       "       'Tissu', 'Turkish Bath', 'Nature Casuals', 'Unshaven',\n",
       "       'GIO COLLECTION', 'YWC', 'Kraft Cellar', 'Saral Home',\n",
       "       'justpeachy', 'GERUA', 'Skechers', 'Studio Voylla',\n",
       "       'Bruno Manetti', 'Invincible', 'Global Desi', 'yelloe',\n",
       "       'American Crew', 'Blisscovered', 'Alina decor', 'MANOHARI',\n",
       "       'Aujjessa', 't-base', 'NBA', 'RUF & TUF', 'SPRAY GROUND',\n",
       "       'UNKNOWN by Ayesha', 'WILD WEST', 'Pure Play', 'PUMA Motorsport',\n",
       "       '20Dresses', 'Enamor', 'Aerosoles', 'Garmin', 'Street Style Store',\n",
       "       'Alom', 'DOT & KEY', 'pinwheel', 'Lotto', 'IZOD', 'Ruosh',\n",
       "       'Aarika', 'Envy', 'Reebok Classic', 'FEVER', 'Madame',\n",
       "       '612 league', 'Tossido', 'WISSTLER', 'AHIKA', 'Jompers', 'Yuuki',\n",
       "       'Ahalyaa', 'Z-ZOOM', 'Van Heusen Woman', 'Blacksmith', 'fungus',\n",
       "       'Naari', 'Van Heusen Sport', 'Lady Love', 'NIZA', 'Saint G',\n",
       "       'HIROLAS', 'The Pink Moon', 'MISH', 'Vozaf',\n",
       "       'Louis Philippe Jeans', 'Indo Era', 'CALFNERO',\n",
       "       'The House of Tara', 'Kids Ville', 'The Chennai Silks', 'Superdry',\n",
       "       'Fox', 'Anouk', 'OFF LIMITS', 'Frozen', 'DIXCY SCOTT', 'BEARDO',\n",
       "       'Sherlock', 'FS Mini Klub', 'De Moza', 'VarEesha', 'Zelocity',\n",
       "       'Peanuts', 'Denizen From Levis', 'Ferraiolo', 'Yaadleen',\n",
       "       'Peter England Elite', 'SEIKO', 'TALES & STORIES',\n",
       "       'Daily Life Forever52', 'The Vanca', 'AND', 'The Indian Garage Co',\n",
       "       'Voyage', 'Reebok', 'SCOUP', 'GNIST', 'Biba', 'RAISIN', 'AASK',\n",
       "       'FABNEST', 'Signature Sole', 'Batman', 'STAR WARS', 'SWAROVSKI',\n",
       "       'FUGAZEE', 'KAMA AYURVEDA', 'ADIDAS Originals', 'Fusion Beats',\n",
       "       'bodha', 'Peora', 'Amante', 'naughty ninos', 'Rajesh Silk Mills',\n",
       "       'ADIDAS', 'Allen Solly Sport', 'Krafted with Happiness',\n",
       "       'Golden Girl', 'RUGSMITH', 'SKAGEN', 'Masculino Latino',\n",
       "       'Lychee bags', 'Ira Soleil', 'CORSICA', 'Instacrush',\n",
       "       'SCUDERIA FERRARI', 'Superman', 'DailyObjects', 'The Dry State',\n",
       "       'Makeup Revolution London', 'Orange and Orchid', 'CAPTAIN AMERICA',\n",
       "       'Teakwood Leathers', 'Ponds', 'Inc 5', 'EK DO DHAI', 'Natilene',\n",
       "       'OBOW', 'Basics', 'ESBEDA', 'TAG EYE', 'Proline Active',\n",
       "       'FableStreet', 'amraoo', 'Varkala Silk Sarees', 'LilPicks',\n",
       "       'Lacoste', 'Purple Feather', 'FURO by Red Chief', 'WESTCLO',\n",
       "       'FOREVER 21', 'Barbie by Many Frocks &', 'Khushal K',\n",
       "       'Rangoli Jaipur', 'I AM FOR YOU', 'Soulflower',\n",
       "       'Allen Solly Junior', 'Hubberholme', 'BOLLYGLOW', 'Braun',\n",
       "       'DUGRISTYLE', 'HUNTER 1114', 'FILA', 'Vastraa Fusion', 'Renka',\n",
       "       'U.S. Polo Assn. Women', 'Antheaa', 'Tikhi Imli', 'Wear Your Mind',\n",
       "       'Moon Dust', 'Philips', 'AWW HUNNIE', 'Purple State', 'Kidling',\n",
       "       'Twisha', 'Genius18', 'Pepe Jeans', 'Plum', 'Lapis O Lupo',\n",
       "       'SHINGORA', 'Lino Perros', 'Revlon', 'MomToBe', 'DEYANN',\n",
       "       'Nauti Nati', 'FLAVIDO', 'QUIERO', 'Inddus', 'Laceandme',\n",
       "       'Maybelline', 'STREET 9', 'Rain & Rainbow', 'Campana', 'ToniQ',\n",
       "       'OSHKOSH Bgosh', 'Qurvii', 'ULRIC DE VARENS', 'BUKKUM', 'KID1',\n",
       "       'Hidesign', 'Sonari', 'Wrangler', 'Ives', 'Noble Faith', 'PURYS',\n",
       "       'BEAT LONDON by PEPE JEANS', 'Chopard', 'House of Pataudi', 'INVU',\n",
       "       'CAT', 'ESPRIT', 'PRITA', 'Satrani', '109F', 'SWISS MILITARY',\n",
       "       'Carven', 'Stupid Cupid'], dtype=object)"
      ]
     },
     "execution_count": 301,
     "metadata": {},
     "output_type": "execute_result"
    }
   ],
   "source": [
    "df['ProductBrand'].unique()"
   ]
  },
  {
   "cell_type": "code",
   "execution_count": 304,
   "id": "ecb82ae5",
   "metadata": {},
   "outputs": [
    {
     "data": {
      "text/plain": [
       "array(['Unisex', 'Women', 'Men', 'Boys', 'Girls', 'Unisex Kids'],\n",
       "      dtype=object)"
      ]
     },
     "execution_count": 304,
     "metadata": {},
     "output_type": "execute_result"
    }
   ],
   "source": [
    "df['Gender'].unique()"
   ]
  },
  {
   "cell_type": "code",
   "execution_count": 306,
   "id": "1250b76d",
   "metadata": {},
   "outputs": [
    {
     "data": {
      "text/plain": [
       "<AxesSubplot:xlabel='Price (INR)', ylabel='Density'>"
      ]
     },
     "execution_count": 306,
     "metadata": {},
     "output_type": "execute_result"
    },
    {
     "data": {
      "image/png": "[encoded data removed]",
      "text/plain": [
       "<Figure size 576x288 with 1 Axes>"
      ]
     },
     "metadata": {},
     "output_type": "display_data"
    }
   ],
   "source": [
    "sns.kdeplot(df['Price (INR)'])"
   ]
  },
  {
   "cell_type": "code",
   "execution_count": 309,
   "id": "80712ca6",
   "metadata": {},
   "outputs": [],
   "source": [
    "df.drop(df[df['Price (INR)'] > 10000].index , axis = 0 , inplace = True)"
   ]
  },
  {
   "cell_type": "code",
   "execution_count": 311,
   "id": "9379023d",
   "metadata": {},
   "outputs": [
    {
     "data": {
      "text/plain": [
       "<AxesSubplot:xlabel='Price (INR)', ylabel='Density'>"
      ]
     },
     "execution_count": 311,
     "metadata": {},
     "output_type": "execute_result"
    },
    {
     "data": {
      "image/png": "[encoded data removed]",
      "text/plain": [
       "<Figure size 576x288 with 1 Axes>"
      ]
     },
     "metadata": {},
     "output_type": "display_data"
    }
   ],
   "source": [
    "sns.kdeplot(df['Price (INR)'] , shade = True)"
   ]
  },
  {
   "cell_type": "code",
   "execution_count": 313,
   "id": "2130e23e",
   "metadata": {},
   "outputs": [
    {
     "data": {
      "text/plain": [
       "array([ 7,  5,  4,  6,  3,  2,  1,  8,  9, 10], dtype=int64)"
      ]
     },
     "execution_count": 313,
     "metadata": {},
     "output_type": "execute_result"
    }
   ],
   "source": [
    "df['NumImages'].unique()"
   ]
  },
  {
   "cell_type": "code",
   "execution_count": 316,
   "id": "345d3d01",
   "metadata": {},
   "outputs": [
    {
     "data": {
      "text/plain": [
       "array([' Beige', ' Pink', 'Blue', ' White', ' Brown', ' Burgundy', ' Red',\n",
       "       ' Green', ' Maroon', ' Navy', ' Black', ' Gold', ' Yellow',\n",
       "       ' Grey', ' Platinum', ' Silver', ' Khaki', ' Mustard', ' Lavender',\n",
       "       ' Matte', ' Rose', ' Charcoal', ' Orange', ' Purple', ' Peach',\n",
       "       ' Magenta', ' Bronze'], dtype=object)"
      ]
     },
     "execution_count": 316,
     "metadata": {},
     "output_type": "execute_result"
    }
   ],
   "source": [
    "df['PrimaryColor'].unique()"
   ]
  },
  {
   "cell_type": "code",
   "execution_count": 317,
   "id": "3aae67d7",
   "metadata": {},
   "outputs": [],
   "source": [
    "df.reset_index(inplace = True , drop = True)"
   ]
  },
  {
   "cell_type": "markdown",
   "id": "4456f3f9",
   "metadata": {},
   "source": [
    "## Now save 2nd dataset for analysis "
   ]
  },
  {
   "cell_type": "code",
   "execution_count": 318,
   "id": "4f0d9d27",
   "metadata": {},
   "outputs": [],
   "source": [
    "df.to_csv('CleanedFashion2.csv' , index = False)"
   ]
  },
  {
   "cell_type": "markdown",
   "id": "a3544bed",
   "metadata": {},
   "source": [
    "## Read 3rd Data set "
   ]
  },
  {
   "cell_type": "code",
   "execution_count": 390,
   "id": "3cc6d8b1",
   "metadata": {},
   "outputs": [],
   "source": [
    "df = pd.read_csv('Ajio Fasion Clothing.csv' , encoding='latin-1')"
   ]
  },
  {
   "cell_type": "code",
   "execution_count": 391,
   "id": "712f136a",
   "metadata": {},
   "outputs": [
    {
     "data": {
      "text/html": [
       "<div>\n",
       "<style scoped>\n",
       "    .dataframe tbody tr th:only-of-type {\n",
       "        vertical-align: middle;\n",
       "    }\n",
       "\n",
       "    .dataframe tbody tr th {\n",
       "        vertical-align: top;\n",
       "    }\n",
       "\n",
       "    .dataframe thead th {\n",
       "        text-align: right;\n",
       "    }\n",
       "</style>\n",
       "<table border=\"1\" class=\"dataframe\">\n",
       "  <thead>\n",
       "    <tr style=\"text-align: right;\">\n",
       "      <th></th>\n",
       "      <th>Product_URL</th>\n",
       "      <th>Brand</th>\n",
       "      <th>Description</th>\n",
       "      <th>Id_Product</th>\n",
       "      <th>URL_image</th>\n",
       "      <th>Category_by_gender</th>\n",
       "      <th>Discount Price (in Rs.)</th>\n",
       "      <th>Original Price (in Rs.)</th>\n",
       "      <th>Color</th>\n",
       "    </tr>\n",
       "  </thead>\n",
       "  <tbody>\n",
       "    <tr>\n",
       "      <th>0</th>\n",
       "      <td>https://www.ajio.com/netplay-checked-polo-t-sh...</td>\n",
       "      <td>netplay</td>\n",
       "      <td>Checked Polo T-shirt</td>\n",
       "      <td>441137362002</td>\n",
       "      <td>https://assets.ajio.com/medias/sys_master/root...</td>\n",
       "      <td>Men</td>\n",
       "      <td>559</td>\n",
       "      <td>699</td>\n",
       "      <td>white</td>\n",
       "    </tr>\n",
       "    <tr>\n",
       "      <th>1</th>\n",
       "      <td>https://www.ajio.com/netplay-tapered-fit-flat-...</td>\n",
       "      <td>netplay</td>\n",
       "      <td>Tapered Fit Flat-Front Trousers</td>\n",
       "      <td>441124497006</td>\n",
       "      <td>https://assets.ajio.com/medias/sys_master/root...</td>\n",
       "      <td>Men</td>\n",
       "      <td>720</td>\n",
       "      <td>1,499</td>\n",
       "      <td>navy</td>\n",
       "    </tr>\n",
       "    <tr>\n",
       "      <th>2</th>\n",
       "      <td>https://www.ajio.com/the-indian-garage-co-stri...</td>\n",
       "      <td>the-indian-garage-co</td>\n",
       "      <td>Striped Slim Fit Shirt with Patch Pocket</td>\n",
       "      <td>460453612003</td>\n",
       "      <td>https://assets.ajio.com/medias/sys_master/root...</td>\n",
       "      <td>Men</td>\n",
       "      <td>495</td>\n",
       "      <td>1,649</td>\n",
       "      <td>white</td>\n",
       "    </tr>\n",
       "    <tr>\n",
       "      <th>3</th>\n",
       "      <td>https://www.ajio.com/performax-heathered-crew-...</td>\n",
       "      <td>performax</td>\n",
       "      <td>Heathered Crew-Neck T-shirt</td>\n",
       "      <td>441036730003</td>\n",
       "      <td>https://assets.ajio.com/medias/sys_master/root...</td>\n",
       "      <td>Men</td>\n",
       "      <td>329</td>\n",
       "      <td>599</td>\n",
       "      <td>charcoal</td>\n",
       "    </tr>\n",
       "    <tr>\n",
       "      <th>4</th>\n",
       "      <td>https://www.ajio.com/john-players-jeans-washed...</td>\n",
       "      <td>john-players-jeans</td>\n",
       "      <td>Washed Skinny Fit Jeans with Whiskers</td>\n",
       "      <td>441128531011</td>\n",
       "      <td>https://assets.ajio.com/medias/sys_master/root...</td>\n",
       "      <td>Men</td>\n",
       "      <td>899</td>\n",
       "      <td>999</td>\n",
       "      <td>jetblack</td>\n",
       "    </tr>\n",
       "  </tbody>\n",
       "</table>\n",
       "</div>"
      ],
      "text/plain": [
       "                                         Product_URL                 Brand  ... Original Price (in Rs.)     Color\n",
       "0  https://www.ajio.com/netplay-checked-polo-t-sh...               netplay  ...                     699     white\n",
       "1  https://www.ajio.com/netplay-tapered-fit-flat-...               netplay  ...                   1,499      navy\n",
       "2  https://www.ajio.com/the-indian-garage-co-stri...  the-indian-garage-co  ...                   1,649     white\n",
       "3  https://www.ajio.com/performax-heathered-crew-...             performax  ...                     599  charcoal\n",
       "4  https://www.ajio.com/john-players-jeans-washed...    john-players-jeans  ...                     999  jetblack\n",
       "\n",
       "[5 rows x 9 columns]"
      ]
     },
     "execution_count": 391,
     "metadata": {},
     "output_type": "execute_result"
    }
   ],
   "source": [
    "df.head()"
   ]
  },
  {
   "cell_type": "markdown",
   "id": "3cb05e78",
   "metadata": {},
   "source": [
    "### drop unneesded columns "
   ]
  },
  {
   "cell_type": "code",
   "execution_count": 392,
   "id": "ee8bc616",
   "metadata": {},
   "outputs": [],
   "source": [
    "df.drop(['Product_URL' , 'URL_image'] , axis = 1 , inplace = True)"
   ]
  },
  {
   "cell_type": "markdown",
   "id": "675871dc",
   "metadata": {},
   "source": [
    "* make some sort and rename columns "
   ]
  },
  {
   "cell_type": "code",
   "execution_count": 393,
   "id": "58cec98c",
   "metadata": {},
   "outputs": [],
   "source": [
    "df = df[['Id_Product' , 'Description' , 'Brand' , 'Category_by_gender' , 'Original Price (in Rs.)' \n",
    "         , 'Discount Price (in Rs.)' , 'Color']]"
   ]
  },
  {
   "cell_type": "code",
   "execution_count": 394,
   "id": "0fb37f84",
   "metadata": {},
   "outputs": [],
   "source": [
    "df.rename(columns = {'Category_by_gender' : 'Gender' , 'Original Price (in Rs.)' : 'Price' , \n",
    "                    'Discount Price (in Rs.)' : 'DiscountPrice'} , inplace = True)"
   ]
  },
  {
   "cell_type": "code",
   "execution_count": 395,
   "id": "d9bc74c4",
   "metadata": {},
   "outputs": [
    {
     "data": {
      "text/plain": [
       "Id_Product       0\n",
       "Description      0\n",
       "Brand            0\n",
       "Gender           0\n",
       "Price            0\n",
       "DiscountPrice    0\n",
       "Color            0\n",
       "dtype: int64"
      ]
     },
     "execution_count": 395,
     "metadata": {},
     "output_type": "execute_result"
    }
   ],
   "source": [
    "# check missing \n",
    "df.isnull().sum()"
   ]
  },
  {
   "cell_type": "code",
   "execution_count": 396,
   "id": "5e6743c4",
   "metadata": {},
   "outputs": [
    {
     "name": "stdout",
     "output_type": "stream",
     "text": [
      "<class 'pandas.core.frame.DataFrame'>\n",
      "RangeIndex: 367172 entries, 0 to 367171\n",
      "Data columns (total 7 columns):\n",
      " #   Column         Non-Null Count   Dtype \n",
      "---  ------         --------------   ----- \n",
      " 0   Id_Product     367172 non-null  int64 \n",
      " 1   Description    367172 non-null  object\n",
      " 2   Brand          367172 non-null  object\n",
      " 3   Gender         367172 non-null  object\n",
      " 4   Price          367172 non-null  object\n",
      " 5   DiscountPrice  367172 non-null  object\n",
      " 6   Color          367172 non-null  object\n",
      "dtypes: int64(1), object(6)\n",
      "memory usage: 19.6+ MB\n"
     ]
    }
   ],
   "source": [
    "# show if data types represent columns values ?\n",
    "df.info()"
   ]
  },
  {
   "cell_type": "markdown",
   "id": "7df8ec8e",
   "metadata": {},
   "source": [
    "#### we need some transformation on price and discount price "
   ]
  },
  {
   "cell_type": "code",
   "execution_count": 397,
   "id": "dd382b3b",
   "metadata": {
    "scrolled": true
   },
   "outputs": [],
   "source": [
    "df['Price'] = df['Price'].str.replace(',' , '.')"
   ]
  },
  {
   "cell_type": "code",
   "execution_count": 398,
   "id": "7dfb29e0",
   "metadata": {},
   "outputs": [
    {
     "data": {
      "text/plain": [
       "1.0"
      ]
     },
     "execution_count": 398,
     "metadata": {},
     "output_type": "execute_result"
    }
   ],
   "source": [
    "def fix_price(x):\n",
    "    if len(x.split('.')) == 2:\n",
    "        return float(x)*1000\n",
    "    else:\n",
    "        return float(x)\n",
    "fix_price('1')"
   ]
  },
  {
   "cell_type": "code",
   "execution_count": 399,
   "id": "92d6c0c7",
   "metadata": {},
   "outputs": [],
   "source": [
    "df['Price'] = df['Price'].apply(fix_price)"
   ]
  },
  {
   "cell_type": "code",
   "execution_count": 400,
   "id": "0ac1b916",
   "metadata": {},
   "outputs": [],
   "source": [
    "df['DiscountPrice'] = df['DiscountPrice'].str.replace(',' , '.')"
   ]
  },
  {
   "cell_type": "code",
   "execution_count": 401,
   "id": "e0be52d4",
   "metadata": {},
   "outputs": [],
   "source": [
    "df['DiscountPrice'] = df['DiscountPrice'].apply(fix_price)"
   ]
  },
  {
   "cell_type": "code",
   "execution_count": 402,
   "id": "38e055b1",
   "metadata": {},
   "outputs": [],
   "source": [
    "df['DiscountPercentage'] = (df['Price'] - df['DiscountPrice']) * 100 / df['Price']"
   ]
  },
  {
   "cell_type": "markdown",
   "id": "a7ec6c14",
   "metadata": {},
   "source": [
    "#### some outlier with unlogical data "
   ]
  },
  {
   "cell_type": "code",
   "execution_count": 403,
   "id": "9fa970fc",
   "metadata": {},
   "outputs": [
    {
     "data": {
      "text/plain": [
       "<AxesSubplot:xlabel='DiscountPrice', ylabel='Density'>"
      ]
     },
     "execution_count": 403,
     "metadata": {},
     "output_type": "execute_result"
    },
    {
     "data": {
      "image/png": "[encoded data removed]",
      "text/plain": [
       "<Figure size 576x288 with 1 Axes>"
      ]
     },
     "metadata": {},
     "output_type": "display_data"
    }
   ],
   "source": [
    "sns.distplot(df['DiscountPrice'])"
   ]
  },
  {
   "cell_type": "code",
   "execution_count": 404,
   "id": "4896d683",
   "metadata": {},
   "outputs": [],
   "source": [
    "# drop this records that make outlier may make mistakes in analysis \n",
    "df.drop(df[df['Price'] > 15000].index  , axis = 0  , inplace = True)"
   ]
  },
  {
   "cell_type": "code",
   "execution_count": 405,
   "id": "c4a648af",
   "metadata": {},
   "outputs": [
    {
     "data": {
      "text/plain": [
       "<AxesSubplot:xlabel='Price', ylabel='Density'>"
      ]
     },
     "execution_count": 405,
     "metadata": {},
     "output_type": "execute_result"
    },
    {
     "data": {
      "image/png": "[encoded data removed]",
      "text/plain": [
       "<Figure size 576x288 with 1 Axes>"
      ]
     },
     "metadata": {},
     "output_type": "display_data"
    }
   ],
   "source": [
    "sns.kdeplot(df['Price'] , shade = True)"
   ]
  },
  {
   "cell_type": "code",
   "execution_count": 406,
   "id": "c96dd541",
   "metadata": {},
   "outputs": [
    {
     "data": {
      "text/plain": [
       "array(['netplay', 'the-indian-garage-co', 'performax', ..., 'deepam',\n",
       "       'tara-and-i', 'fab-viva'], dtype=object)"
      ]
     },
     "execution_count": 406,
     "metadata": {},
     "output_type": "execute_result"
    }
   ],
   "source": [
    "df['Brand'].unique()"
   ]
  },
  {
   "cell_type": "code",
   "execution_count": 407,
   "id": "b2b67761",
   "metadata": {},
   "outputs": [
    {
     "data": {
      "text/plain": [
       "array(['Men', 'Women'], dtype=object)"
      ]
     },
     "execution_count": 407,
     "metadata": {},
     "output_type": "execute_result"
    }
   ],
   "source": [
    "df['Gender'].unique()"
   ]
  },
  {
   "cell_type": "code",
   "execution_count": 408,
   "id": "73f1d853",
   "metadata": {
    "scrolled": true
   },
   "outputs": [
    {
     "data": {
      "text/plain": [
       "array(['white', 'navy', 'charcoal', ..., '5br', 'yn5', 'bc06alloyhtr'],\n",
       "      dtype=object)"
      ]
     },
     "execution_count": 408,
     "metadata": {},
     "output_type": "execute_result"
    }
   ],
   "source": [
    "df['Color'].unique()"
   ]
  },
  {
   "cell_type": "markdown",
   "id": "ba3a3d2b",
   "metadata": {},
   "source": [
    "## Now save 3rd Dataset for analysis"
   ]
  },
  {
   "cell_type": "code",
   "execution_count": 409,
   "id": "36760f7a",
   "metadata": {},
   "outputs": [],
   "source": [
    "df.to_csv('CleanedFashion3.csv' , index = False)"
   ]
  },
  {
   "cell_type": "code",
   "execution_count": null,
   "id": "8374da6d",
   "metadata": {},
   "outputs": [],
   "source": []
  }
 ],
 "metadata": {
  "kernelspec": {
   "display_name": "Python 3 (ipykernel)",
   "language": "python",
   "name": "python3"
  },
  "language_info": {
   "codemirror_mode": {
    "name": "ipython",
    "version": 3
   },
   "file_extension": ".py",
   "mimetype": "text/x-python",
   "name": "python",
   "nbconvert_exporter": "python",
   "pygments_lexer": "ipython3",
   "version": "3.10.4"
  }
 },
 "nbformat": 4,
 "nbformat_minor": 5
}
